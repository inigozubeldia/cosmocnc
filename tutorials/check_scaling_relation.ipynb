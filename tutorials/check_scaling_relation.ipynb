{
 "cells": [
  {
   "cell_type": "code",
   "execution_count": 1,
   "metadata": {},
   "outputs": [
    {
     "name": "stderr",
     "output_type": "stream",
     "text": [
      "2025-05-06 10:37:29.641880: E external/local_xla/xla/stream_executor/cuda/cuda_fft.cc:477] Unable to register cuFFT factory: Attempting to register factory for plugin cuFFT when one has already been registered\n",
      "WARNING: All log messages before absl::InitializeLog() is called are written to STDERR\n",
      "E0000 00:00:1746520649.655352 2027189 cuda_dnn.cc:8310] Unable to register cuDNN factory: Attempting to register factory for plugin cuDNN when one has already been registered\n",
      "E0000 00:00:1746520649.659152 2027189 cuda_blas.cc:1418] Unable to register cuBLAS factory: Attempting to register factory for plugin cuBLAS when one has already been registered\n"
     ]
    },
    {
     "name": "stdout",
     "output_type": "stream",
     "text": [
      "Warning: PATH_TO_COSMOPOWER_ORGANIZATION is not set.\n",
      "defaulting to  /rds-d4/user/iz221/hpc-work/cosmopower/\n",
      "Warning: PATH_TO_COSMOCNC is not set.\n",
      "defaulting to  /home/anicola_hpc/projects/ACT_clustering/code/cosmocnc/cosmocnc/../\n"
     ]
    }
   ],
   "source": [
    "import numpy as np\n",
    "import matplotlib.pyplot as plt\n",
    "import matplotlib\n",
    "import cosmocnc as cnc\n",
    "import time\n",
    "from astropy.io import fits\n",
    "import pyccl as ccl"
   ]
  },
  {
   "cell_type": "code",
   "execution_count": 2,
   "metadata": {},
   "outputs": [],
   "source": [
    "number_counts = cnc.cluster_number_counts()\n",
    "\n",
    "number_counts.cnc_params[\"survey_sr\"] = \"/home/anicola_hpc/projects/ACT_clustering/scripts/survey_sr_act_DES.py\"\n",
    "number_counts.cnc_params[\"survey_cat\"] = None\n",
    "\n",
    "number_counts.cnc_params[\"load_catalogue\"] = False\n",
    "\n",
    "number_counts.cnc_params[\"cluster_catalogue\"] = \"act\"\n",
    "number_counts.cnc_params[\"observables\"] =  [[\"q_act\"]]\n",
    "number_counts.cnc_params[\"obs_select\"] = \"q_act\"\n",
    "\n",
    "number_counts.cnc_params[\"data_lik_from_abundance\"] = True\n",
    "number_counts.cnc_params[\"compute_abundance_matrix\"] = True\n",
    "\n",
    "number_counts.cnc_params[\"obs_select_min\"] = 5.\n",
    "number_counts.cnc_params[\"obs_select_max\"] = 200.\n",
    "number_counts.cnc_params[\"M_min\"] = 5e13\n",
    "number_counts.cnc_params[\"M_max\"] = 1e16\n",
    "number_counts.cnc_params[\"z_min\"] = 0.0\n",
    "number_counts.cnc_params[\"z_max\"] = 3.\n",
    "\n",
    "number_counts.cnc_params[\"n_points\"] = 1024*16\n",
    "number_counts.cnc_params[\"n_z\"] = 100\n",
    "\n",
    "number_counts.cnc_params[\"scalrel_type_deriv\"] = \"numerical\"\n",
    "number_counts.cnc_params[\"abundance_integral_type\"] = \"fft\"\n",
    "number_counts.cnc_params[\"apply_obs_cutoff\"] = False\n",
    "\n",
    "number_counts.cnc_params[\"cosmology_tool\"] = \"classy_sz\"\n",
    "number_counts.cnc_params[\"hmf_calc\"] = \"classy_sz\"\n",
    "number_counts.cnc_params[\"class_sz_hmf\"] = \"T08M500c\"\n",
    "number_counts.cnc_params[\"mass_definition\"] = \"500c\"\n",
    "number_counts.cnc_params[\"hmf_type_deriv\"] = \"numerical\"\n",
    "# number_counts.cnc_params[\"interp_tinker\"] = \"linear\"\n",
    "\n",
    "\n",
    "number_counts.cnc_params[\"number_cores_hmf\"] = 1\n",
    "number_counts.cnc_params[\"number_cores_abundance\"] = 1#8\n",
    "number_counts.cnc_params[\"number_cores_data\"] = 1# 8\n",
    "number_counts.cnc_params[\"parallelise_type\"] = \"redshift\"\n",
    "\n",
    "number_counts.cnc_params[\"cosmo_amplitude_parameter\"] = \"sigma_8\"\n",
    "number_counts.cnc_params[\"Hubble_parameter\"] = \"H0\"\n",
    "number_counts.cnc_params[\"cosmo_param_density\"] = \"physical\"\n",
    "number_counts.cnc_params[\"class_sz_cosmo_model\"] = \"mnu\"\n",
    "number_counts.cnc_params[\"cosmo_model\"] = number_counts.cnc_params[\"class_sz_cosmo_model\"]\n",
    "\n",
    "#    \"class_sz_cosmo_model\": \"lcdm\", # lcdm, mnu, neff, wcdm, ede\n",
    "\n",
    "number_counts.cnc_params[\"cosmocnc_verbose\"] = \"minimal\"\n",
    "\n",
    "number_counts.cnc_params[\"likelihood_type\"] = \"binned\"\n",
    "\n",
    "number_counts.scal_rel_params[\"q_cutoff\"] = 5.\n",
    "\n",
    "number_counts.cnc_params[\"bins_edges_obs_select\"] = np.exp(np.linspace(np.log(number_counts.cnc_params[\"obs_select_min\"]), \\\n",
    "                                                                    np.log(number_counts.cnc_params[\"obs_select_max\"]),7))\n",
    "\n",
    "number_counts.scal_rel_params.update({\n",
    "'A0' : -4.76 ,\n",
    "# 'B0': 0.14,\n",
    "# 'A0' : np.log10(3e-5),\n",
    "'B0': 0.025,\n",
    "'SZmPivot' : 3e14, #in Msun\n",
    "'bias_sz' : 1.,\n",
    "'sigma_lnq_act' : 0.1,\n",
    "'C0' : 2.,\n",
    "\"dof\":0.,\n",
    "}\n",
    ")                                                          \n",
    "\n",
    "# 68% -4.617 -4.291 \n",
    "# 95% -4.76 -4.11\n",
    "\n",
    "# A0  -4.4032137E+00 \n",
    "# B0   2.4235966E-02  \n",
    "# sigma_lnq_act 1.0006905E-01\n",
    "\n",
    "number_counts.cosmo_params.update({\n",
    "\n",
    "\"Ob0h2\":0.04897*0.674**2,\n",
    "\"Oc0h2\":(0.315-0.04897)*0.674**2,\n",
    "\"h\":0.674,\n",
    "\"H0\": 67.4,\n",
    "\"sigma8\": 0.811,\n",
    "\"tau_reio\": 0.0544,\n",
    "\"n_s\":0.96,\n",
    "\"m_nu\":0.06,\n",
    "\"A_s\":2.08467e-09,\n",
    "}\n",
    ")\n"
   ]
  },
  {
   "cell_type": "code",
   "execution_count": 3,
   "metadata": {},
   "outputs": [],
   "source": [
    "A0_vec = np.array([-4.76, -4.62, -4.4, -4.3, -4.11])"
   ]
  },
  {
   "cell_type": "code",
   "execution_count": 4,
   "metadata": {},
   "outputs": [],
   "source": [
    "# Delta=200 (matter).\n",
    "hmd_200m = ccl.halos.MassDef200m\n",
    "\n",
    "# Delta=500 (matter).\n",
    "hmd_500c = ccl.halos.MassDef(500, 'critical')\n",
    "\n",
    "mass_trans = ccl.halos.mass_translator(mass_in=hmd_200m, mass_out=hmd_500c, \n",
    "                                       concentration=ccl.halos.ConcentrationDuffy08(mass_def=hmd_200m))"
   ]
  },
  {
   "cell_type": "code",
   "execution_count": 5,
   "metadata": {},
   "outputs": [],
   "source": [
    "cosmo = ccl.Cosmology(Omega_b=0.04897, Omega_c=0.315-0.04897, h=0.674, A_s=2.08467e-09, n_s=0.96)"
   ]
  },
  {
   "cell_type": "code",
   "execution_count": 6,
   "metadata": {},
   "outputs": [],
   "source": [
    "m200m_arr = np.logspace(14, 15, 100)\n",
    "\n",
    "m500c = mass_trans(cosmo, m200m_arr, 1.)"
   ]
  },
  {
   "cell_type": "code",
   "execution_count": 9,
   "metadata": {},
   "outputs": [
    {
     "name": "stderr",
     "output_type": "stream",
     "text": [
      "INFO - Cosmology params: {'Om0': 0.31499999999999995, 'Ob0': 0.04897, 'Ob0h2': 0.022245895720000002, 'Oc0h2': 0.12085104428000001, 'h': 0.674, 'A_s': 2.0856609249807952e-09, 'n_s': 0.96, 'm_nu': 0.06, 'sigma_8': 0.8110000000000003, 'tau_reio': 0.0544, 'w0': -1.0, 'Onu0': 0.001418083698824921, 'N_eff': 3.046, 'k_cutoff': 100000000.0, 'ps_cutoff': 1, 'H0': 67.4, 'sigma8': 0.811}\n",
      "INFO - adding dndlnM to class_sz output\n",
      "INFO - computing class_szfast\n"
     ]
    },
    {
     "name": "stdout",
     "output_type": "stream",
     "text": [
      "A0 =  -4.76\n"
     ]
    },
    {
     "name": "stderr",
     "output_type": "stream",
     "text": [
      "INFO - computing class_szfast done\n",
      "INFO - Cosmology params: {'Om0': 0.31499999999999995, 'Ob0': 0.04897, 'Ob0h2': 0.022245895720000002, 'Oc0h2': 0.12085104428000001, 'h': 0.674, 'A_s': 2.0856609249807952e-09, 'n_s': 0.96, 'm_nu': 0.06, 'sigma_8': 0.8110000000000003, 'tau_reio': 0.0544, 'w0': -1.0, 'Onu0': 0.001418083698824921, 'N_eff': 3.046, 'k_cutoff': 100000000.0, 'ps_cutoff': 1, 'H0': 67.4, 'sigma8': 0.811}\n",
      "INFO - adding dndlnM to class_sz output\n",
      "INFO - computing class_szfast\n",
      "INFO - computing class_szfast done\n",
      "INFO - Collecting hmf\n",
      "/home/anicola_hpc/projects/ACT_clustering/scripts/survey_sr_act_DES.py:53: RuntimeWarning: divide by zero encountered in scalar divide\n",
      "  self.prefactor_M_500_to_theta = 6.997*(H0/70.)**(-2./3.)*(self.params[\"bias_sz\"]/3.)**(1./3.)*E_z**(-2./3.)*(500./D_A)\n",
      "INFO - Total clusters: 448.95234\n",
      "INFO - Time: 0.09044\n",
      "INFO - log_lik: -406.25262\n",
      "INFO - Cosmology params: {'Om0': 0.31499999999999995, 'Ob0': 0.04897, 'Ob0h2': 0.022245895720000002, 'Oc0h2': 0.12085104428000001, 'h': 0.674, 'A_s': 2.0856609249807952e-09, 'n_s': 0.96, 'm_nu': 0.06, 'sigma_8': 0.8110000000000003, 'tau_reio': 0.0544, 'w0': -1.0, 'Onu0': 0.001418083698824921, 'N_eff': 3.046, 'k_cutoff': 100000000.0, 'ps_cutoff': 1, 'H0': 67.4, 'sigma8': 0.811}\n",
      "INFO - adding dndlnM to class_sz output\n",
      "INFO - computing class_szfast\n"
     ]
    },
    {
     "name": "stdout",
     "output_type": "stream",
     "text": [
      "A0 =  -4.62\n"
     ]
    },
    {
     "name": "stderr",
     "output_type": "stream",
     "text": [
      "INFO - computing class_szfast done\n",
      "INFO - Cosmology params: {'Om0': 0.31499999999999995, 'Ob0': 0.04897, 'Ob0h2': 0.022245895720000002, 'Oc0h2': 0.12085104428000001, 'h': 0.674, 'A_s': 2.0856609249807952e-09, 'n_s': 0.96, 'm_nu': 0.06, 'sigma_8': 0.8110000000000003, 'tau_reio': 0.0544, 'w0': -1.0, 'Onu0': 0.001418083698824921, 'N_eff': 3.046, 'k_cutoff': 100000000.0, 'ps_cutoff': 1, 'H0': 67.4, 'sigma8': 0.811}\n",
      "INFO - adding dndlnM to class_sz output\n",
      "INFO - computing class_szfast\n",
      "INFO - computing class_szfast done\n",
      "INFO - Collecting hmf\n",
      "/home/anicola_hpc/projects/ACT_clustering/scripts/survey_sr_act_DES.py:53: RuntimeWarning: divide by zero encountered in scalar divide\n",
      "  self.prefactor_M_500_to_theta = 6.997*(H0/70.)**(-2./3.)*(self.params[\"bias_sz\"]/3.)**(1./3.)*E_z**(-2./3.)*(500./D_A)\n",
      "INFO - Total clusters: 1065.43242\n",
      "INFO - Time: 0.08604\n",
      "INFO - log_lik: -947.14667\n",
      "INFO - Cosmology params: {'Om0': 0.31499999999999995, 'Ob0': 0.04897, 'Ob0h2': 0.022245895720000002, 'Oc0h2': 0.12085104428000001, 'h': 0.674, 'A_s': 2.0856609249807952e-09, 'n_s': 0.96, 'm_nu': 0.06, 'sigma_8': 0.8110000000000003, 'tau_reio': 0.0544, 'w0': -1.0, 'Onu0': 0.001418083698824921, 'N_eff': 3.046, 'k_cutoff': 100000000.0, 'ps_cutoff': 1, 'H0': 67.4, 'sigma8': 0.811}\n",
      "INFO - adding dndlnM to class_sz output\n",
      "INFO - computing class_szfast\n"
     ]
    },
    {
     "name": "stdout",
     "output_type": "stream",
     "text": [
      "A0 =  -4.4\n"
     ]
    },
    {
     "name": "stderr",
     "output_type": "stream",
     "text": [
      "INFO - computing class_szfast done\n",
      "INFO - Cosmology params: {'Om0': 0.31499999999999995, 'Ob0': 0.04897, 'Ob0h2': 0.022245895720000002, 'Oc0h2': 0.12085104428000001, 'h': 0.674, 'A_s': 2.0856609249807952e-09, 'n_s': 0.96, 'm_nu': 0.06, 'sigma_8': 0.8110000000000003, 'tau_reio': 0.0544, 'w0': -1.0, 'Onu0': 0.001418083698824921, 'N_eff': 3.046, 'k_cutoff': 100000000.0, 'ps_cutoff': 1, 'H0': 67.4, 'sigma8': 0.811}\n",
      "INFO - adding dndlnM to class_sz output\n",
      "INFO - computing class_szfast\n",
      "INFO - computing class_szfast done\n",
      "INFO - Collecting hmf\n",
      "/home/anicola_hpc/projects/ACT_clustering/scripts/survey_sr_act_DES.py:53: RuntimeWarning: divide by zero encountered in scalar divide\n",
      "  self.prefactor_M_500_to_theta = 6.997*(H0/70.)**(-2./3.)*(self.params[\"bias_sz\"]/3.)**(1./3.)*E_z**(-2./3.)*(500./D_A)\n",
      "INFO - Total clusters: 3534.09906\n",
      "INFO - Time: 0.09256\n",
      "INFO - log_lik: -3036.46736\n",
      "INFO - Cosmology params: {'Om0': 0.31499999999999995, 'Ob0': 0.04897, 'Ob0h2': 0.022245895720000002, 'Oc0h2': 0.12085104428000001, 'h': 0.674, 'A_s': 2.0856609249807952e-09, 'n_s': 0.96, 'm_nu': 0.06, 'sigma_8': 0.8110000000000003, 'tau_reio': 0.0544, 'w0': -1.0, 'Onu0': 0.001418083698824921, 'N_eff': 3.046, 'k_cutoff': 100000000.0, 'ps_cutoff': 1, 'H0': 67.4, 'sigma8': 0.811}\n",
      "INFO - adding dndlnM to class_sz output\n",
      "INFO - computing class_szfast\n"
     ]
    },
    {
     "name": "stdout",
     "output_type": "stream",
     "text": [
      "A0 =  -4.3\n"
     ]
    },
    {
     "name": "stderr",
     "output_type": "stream",
     "text": [
      "INFO - computing class_szfast done\n",
      "INFO - Cosmology params: {'Om0': 0.31499999999999995, 'Ob0': 0.04897, 'Ob0h2': 0.022245895720000002, 'Oc0h2': 0.12085104428000001, 'h': 0.674, 'A_s': 2.0856609249807952e-09, 'n_s': 0.96, 'm_nu': 0.06, 'sigma_8': 0.8110000000000003, 'tau_reio': 0.0544, 'w0': -1.0, 'Onu0': 0.001418083698824921, 'N_eff': 3.046, 'k_cutoff': 100000000.0, 'ps_cutoff': 1, 'H0': 67.4, 'sigma8': 0.811}\n",
      "INFO - adding dndlnM to class_sz output\n",
      "INFO - computing class_szfast\n",
      "INFO - computing class_szfast done\n",
      "INFO - Collecting hmf\n",
      "/home/anicola_hpc/projects/ACT_clustering/scripts/survey_sr_act_DES.py:53: RuntimeWarning: divide by zero encountered in scalar divide\n",
      "  self.prefactor_M_500_to_theta = 6.997*(H0/70.)**(-2./3.)*(self.params[\"bias_sz\"]/3.)**(1./3.)*E_z**(-2./3.)*(500./D_A)\n",
      "INFO - Total clusters: 5774.61811\n",
      "INFO - Time: 0.09034\n",
      "INFO - log_lik: -4872.73255\n",
      "INFO - Cosmology params: {'Om0': 0.31499999999999995, 'Ob0': 0.04897, 'Ob0h2': 0.022245895720000002, 'Oc0h2': 0.12085104428000001, 'h': 0.674, 'A_s': 2.0856609249807952e-09, 'n_s': 0.96, 'm_nu': 0.06, 'sigma_8': 0.8110000000000003, 'tau_reio': 0.0544, 'w0': -1.0, 'Onu0': 0.001418083698824921, 'N_eff': 3.046, 'k_cutoff': 100000000.0, 'ps_cutoff': 1, 'H0': 67.4, 'sigma8': 0.811}\n",
      "INFO - adding dndlnM to class_sz output\n",
      "INFO - computing class_szfast\n"
     ]
    },
    {
     "name": "stdout",
     "output_type": "stream",
     "text": [
      "A0 =  -4.11\n"
     ]
    },
    {
     "name": "stderr",
     "output_type": "stream",
     "text": [
      "INFO - computing class_szfast done\n",
      "INFO - Cosmology params: {'Om0': 0.31499999999999995, 'Ob0': 0.04897, 'Ob0h2': 0.022245895720000002, 'Oc0h2': 0.12085104428000001, 'h': 0.674, 'A_s': 2.0856609249807952e-09, 'n_s': 0.96, 'm_nu': 0.06, 'sigma_8': 0.8110000000000003, 'tau_reio': 0.0544, 'w0': -1.0, 'Onu0': 0.001418083698824921, 'N_eff': 3.046, 'k_cutoff': 100000000.0, 'ps_cutoff': 1, 'H0': 67.4, 'sigma8': 0.811}\n",
      "INFO - adding dndlnM to class_sz output\n",
      "INFO - computing class_szfast\n",
      "INFO - computing class_szfast done\n",
      "INFO - Collecting hmf\n",
      "/home/anicola_hpc/projects/ACT_clustering/scripts/survey_sr_act_DES.py:53: RuntimeWarning: divide by zero encountered in scalar divide\n",
      "  self.prefactor_M_500_to_theta = 6.997*(H0/70.)**(-2./3.)*(self.params[\"bias_sz\"]/3.)**(1./3.)*E_z**(-2./3.)*(500./D_A)\n",
      "INFO - Total clusters: 13594.69088\n",
      "INFO - Time: 0.09214\n",
      "INFO - log_lik: -11036.27831\n"
     ]
    }
   ],
   "source": [
    "ym_rels = []\n",
    "n_binned_snr_theory = []\n",
    "n_binned_z_theory = []\n",
    "\n",
    "for i in range(len(A0_vec)):\n",
    "    print(\"A0 = \", A0_vec[i])\n",
    "    number_counts.scal_rel_params.update({\n",
    "        'A0' : A0_vec[i],\n",
    "        # 'B0': 0.14,\n",
    "        # 'A0' : np.log10(3e-5),\n",
    "        'B0': 0.025,\n",
    "        'SZmPivot' : 3e14, #in Msun\n",
    "        'bias_sz' : 1.,\n",
    "        'sigma_lnq_act' : 0.1,\n",
    "        'C0' : 2.,\n",
    "        \"dof\":0.,\n",
    "        }\n",
    "        )\n",
    "\n",
    "    number_counts.update_params(number_counts.cosmo_params,number_counts.scal_rel_params, number_counts.cnc_params)\n",
    "    \n",
    "    number_counts.initialise()\n",
    "\n",
    "    number_counts.get_number_counts()  \n",
    "\n",
    "    x0 = np.log(m500c/1e14)\n",
    "\n",
    "    x1 = np.zeros((49, 100))\n",
    "\n",
    "    redshift_index = 0\n",
    "\n",
    "    other_params = {\"D_A\": number_counts.D_A[redshift_index],\n",
    "                                            \"E_z\": number_counts.E_z[redshift_index],\n",
    "                                            \"H0\": number_counts.cosmology.background_cosmology.H0.value,\n",
    "                                            \"E_z0p6\" : number_counts.E_z0p6,\n",
    "                                            \"zc\":number_counts.redshift_vec[redshift_index],\n",
    "                                            \"cosmology\":number_counts.cosmology,\n",
    "                                            }\n",
    "\n",
    "    for i in range(49):\n",
    "        x1[i, :] = number_counts.scal_rel_selection.eval_scaling_relation(x0,\n",
    "                                                            layer=0,\n",
    "                                                            other_params=other_params,\n",
    "                                                            patch_index=i)    \n",
    "\n",
    "    ym_rels.append(np.average(np.exp(x1), axis=0, weights=1./number_counts.scal_rel_selection.noise))\n",
    "\n",
    "    log_lik = number_counts.get_log_lik()\n",
    "\n",
    "    bins_centres_z = (number_counts.cnc_params[\"bins_edges_z\"][1:] + number_counts.cnc_params[\"bins_edges_z\"][0:-1])*0.5\n",
    "    bins_centres_snr = (number_counts.cnc_params[\"bins_edges_obs_select\"][1:] + number_counts.cnc_params[\"bins_edges_obs_select\"][0:-1])*0.5\n",
    "\n",
    "    n_binned_theory = number_counts.n_binned #Theoretical prediction for the number counts in the SNR-z bins\n",
    "\n",
    "    n_binned_snr_theory.append(np.sum(n_binned_theory,axis=0)) #Theoretical prediction for the number counts in the SNR bins\n",
    "\n",
    "    n_binned_z_theory.append(np.sum(n_binned_theory,axis=1)) #Theoretical prediction for the number counts in the z bins"
   ]
  },
  {
   "cell_type": "code",
   "execution_count": 4,
   "metadata": {},
   "outputs": [],
   "source": [
    "matplotlib.rcParams['lines.linewidth'] = 1.5\n",
    "matplotlib.rcParams['lines.linestyle'] = '-'  \n",
    "matplotlib.rcParams['lines.color'] = 'black'\n",
    "\n",
    "matplotlib.rcParams['patch.linewidth'] = 1.5\n",
    " \n",
    "#fonts & text\n",
    "matplotlib.rcParams['font.family'] = 'serif'\n",
    "matplotlib.rcParams['font.weight'] = 'normal'\n",
    "matplotlib.rcParams['font.size'] = 12.0\n",
    "matplotlib.rcParams['text.color'] = 'black'\n",
    "matplotlib.rcParams['text.usetex'] = False\n",
    " \n",
    "#axes & ticks\n",
    "matplotlib.rcParams['axes.edgecolor'] = 'black'\n",
    "matplotlib.rcParams['axes.linewidth'] = 1.  \n",
    "matplotlib.rcParams['axes.grid'] = False\n",
    "matplotlib.rcParams['axes.titlesize'] = 'x-large'\n",
    "matplotlib.rcParams['axes.labelsize'] = 'x-large'\n",
    "matplotlib.rcParams['axes.labelweight'] = 'normal'\n",
    "matplotlib.rcParams['axes.labelcolor'] = 'black'\n",
    "matplotlib.rcParams['axes.formatter.limits'] = [-4, 4]\n",
    " \n",
    "matplotlib.rcParams['xtick.major.size'] = 7\n",
    "matplotlib.rcParams['xtick.minor.size'] = 4\n",
    "matplotlib.rcParams['xtick.major.pad'] = 6\n",
    "matplotlib.rcParams['xtick.minor.pad'] = 6\n",
    "matplotlib.rcParams['xtick.labelsize'] = 'small'\n",
    "matplotlib.rcParams['xtick.minor.width'] = 1.0\n",
    "matplotlib.rcParams['xtick.major.width'] = 1.0\n",
    " \n",
    "matplotlib.rcParams['ytick.major.size'] = 7\n",
    "matplotlib.rcParams['ytick.minor.size'] = 4\n",
    "matplotlib.rcParams['ytick.major.pad'] = 6\n",
    "matplotlib.rcParams['ytick.minor.pad'] = 6\n",
    "matplotlib.rcParams['ytick.labelsize'] = 'x-large'\n",
    "matplotlib.rcParams['ytick.minor.width'] = 1.0\n",
    "matplotlib.rcParams['ytick.major.width'] = 1.0\n",
    " \n",
    "#legends\n",
    "matplotlib.rcParams['legend.numpoints'] = 1\n",
    "matplotlib.rcParams['legend.fontsize'] = 'large'\n",
    "matplotlib.rcParams['legend.shadow'] = False\n",
    "matplotlib.rcParams['legend.frameon'] = False\n",
    "\n",
    "matplotlib.rcParams['figure.autolayout'] = True"
   ]
  },
  {
   "cell_type": "code",
   "execution_count": 5,
   "metadata": {},
   "outputs": [],
   "source": [
    "colors = ['#e3a19c', '#85a1ca', '#596d82', '#725e9c', '#3d306b', '#AE7182']"
   ]
  },
  {
   "cell_type": "code",
   "execution_count": 42,
   "metadata": {},
   "outputs": [
    {
     "data": {
      "text/plain": [
       "<matplotlib.legend.Legend at 0x7fd83818cd10>"
      ]
     },
     "execution_count": 42,
     "metadata": {},
     "output_type": "execute_result"
    },
    {
     "data": {
      "image/png": "[encoded data removed]",
      "text/plain": [
       "<Figure size 640x480 with 1 Axes>"
      ]
     },
     "metadata": {},
     "output_type": "display_data"
    }
   ],
   "source": [
    "plt.loglog(m200m_arr, ym_rels[2]*1e5, label='best fit', color=colors[4])\n",
    "plt.fill_between(m200m_arr, ym_rels[0]*1e5, ym_rels[-1]*1e5, label=r'$95\\%$ CL', alpha=0.2, color=colors[0])\n",
    "plt.fill_between(m200m_arr, ym_rels[1]*1e5, ym_rels[3]*1e5, label='68% CL', alpha=0.4, color=colors[-1])\n",
    "plt.xlim(1e14, 1e15)\n",
    "plt.ylim(1e-2, 1e2)\n",
    "plt.xlabel(r\"$M_{200m}$ $[M_\\odot]$\")\n",
    "plt.ylabel(r\"$\\tilde{y}_0\\times 10^5$\")\n",
    "plt.legend(frameon=False)"
   ]
  },
  {
   "cell_type": "code",
   "execution_count": 43,
   "metadata": {},
   "outputs": [],
   "source": [
    "file_catalog = '/lustre/scratch/data/anicola_hpc-ACT_clustering/data/DR5ClusterSearch/DR5ClusterSearch_optimalCatalog.fits'\n",
    "\n",
    "hdulist = fits.open(file_catalog)\n",
    "\n",
    "cat = hdulist[1].data"
   ]
  },
  {
   "cell_type": "markdown",
   "metadata": {},
   "source": [
    "Number of clusters in DES footprint"
   ]
  },
  {
   "cell_type": "code",
   "execution_count": 44,
   "metadata": {},
   "outputs": [],
   "source": [
    "mask = cat['footprint_DES']*(cat['fixed_SNR'] > 5.0)"
   ]
  },
  {
   "cell_type": "code",
   "execution_count": 45,
   "metadata": {},
   "outputs": [
    {
     "data": {
      "text/plain": [
       "948"
      ]
     },
     "execution_count": 45,
     "metadata": {},
     "output_type": "execute_result"
    }
   ],
   "source": [
    "np.sum(cat['footprint_DES'][cat['fixed_SNR'] > 5.0])"
   ]
  },
  {
   "cell_type": "code",
   "execution_count": 46,
   "metadata": {},
   "outputs": [],
   "source": [
    "data, bin_edges = np.histogram(cat['fixed_SNR'][mask],bins=number_counts.cnc_params[\"bins_edges_obs_select\"])"
   ]
  },
  {
   "cell_type": "code",
   "execution_count": 57,
   "metadata": {},
   "outputs": [
    {
     "data": {
      "image/png": "[encoded data removed]",
      "text/plain": [
       "<Figure size 640x480 with 1 Axes>"
      ]
     },
     "metadata": {},
     "output_type": "display_data"
    }
   ],
   "source": [
    "plt.errorbar(0.5*(bin_edges[1:]+bin_edges[:-1]),data, yerr=np.sqrt(data), \\\n",
    "             linestyle=\"none\",marker='.', label='ACT DR5', color=colors[3])\n",
    "plt.fill_between(bins_centres_snr, n_binned_snr_theory[0], n_binned_snr_theory[-1], alpha=0.2, color=colors[0], label='95% CL')\n",
    "plt.fill_between(bins_centres_snr, n_binned_snr_theory[1], n_binned_snr_theory[3], alpha=0.4, color=colors[-1], label='68% CL')\n",
    "plt.plot(bins_centres_snr, n_binned_snr_theory[2], label='best fit', color=colors[4])\n",
    "plt.xlabel(\"$q$\")\n",
    "plt.ylabel(\"$N$\")\n",
    "plt.loglog()\n",
    "plt.legend(frameon=False)\n",
    "plt.show()"
   ]
  },
  {
   "cell_type": "code",
   "execution_count": 7,
   "metadata": {},
   "outputs": [],
   "source": [
    "zc_edges = np.array([0.2, 0.4, 0.55, 0.7, 0.85])"
   ]
  },
  {
   "cell_type": "code",
   "execution_count": 9,
   "metadata": {},
   "outputs": [
    {
     "name": "stderr",
     "output_type": "stream",
     "text": [
      "INFO - Cosmology params: {'Om0': 0.315, 'Ob0': 0.04897, 'Ob0h2': 0.022245895720000002, 'Oc0h2': 0.12085104428000001, 'h': 0.674, 'A_s': 2.08467e-09, 'n_s': 0.96, 'm_nu': 0.06, 'sigma_8': 0.811, 'tau_reio': 0.0544, 'w0': -1.0, 'Onu0': 0.00141808, 'N_eff': 3.046, 'k_cutoff': 100000000.0, 'ps_cutoff': 1, 'H0': 67.4, 'sigma8': 0.811}\n",
      "2025-05-06 10:39:59.691985: E external/local_xla/xla/stream_executor/cuda/cuda_driver.cc:152] failed call to cuInit: INTERNAL: CUDA error: Failed call to cuInit: UNKNOWN ERROR (303)\n"
     ]
    },
    {
     "name": "stdout",
     "output_type": "stream",
     "text": [
      "PATH_TO_CLASS_SZ_DATA not set. Setting it now...\n",
      "Defaulting to: /home/anicola_hpc/class_sz_data_directory\n"
     ]
    },
    {
     "name": "stderr",
     "output_type": "stream",
     "text": [
      "INFO - adding dndlnM to class_sz output\n",
      "INFO - computing class_szfast\n",
      "/home/anicola_hpc/.conda/envs/act-clust/lib/python3.11/site-packages/mcfit/mcfit.py:130: UserWarning: use backend='jax' if desired\n",
      "  warnings.warn(\"use backend='jax' if desired\")\n",
      "INFO - computing class_szfast done\n"
     ]
    }
   ],
   "source": [
    "number_counts.initialise()"
   ]
  },
  {
   "cell_type": "code",
   "execution_count": 10,
   "metadata": {},
   "outputs": [
    {
     "name": "stderr",
     "output_type": "stream",
     "text": [
      "INFO - Cosmology params: {'Om0': 0.31499999999999995, 'Ob0': 0.04897, 'Ob0h2': 0.022245895720000002, 'Oc0h2': 0.12085104428000001, 'h': 0.674, 'A_s': 2.0856609249807952e-09, 'n_s': 0.96, 'm_nu': 0.06, 'sigma_8': 0.8110000000000003, 'tau_reio': 0.0544, 'w0': -1.0, 'Onu0': 0.001418083698824921, 'N_eff': 3.046, 'k_cutoff': 100000000.0, 'ps_cutoff': 1, 'H0': 67.4, 'sigma8': 0.811}\n",
      "INFO - adding dndlnM to class_sz output\n",
      "INFO - computing class_szfast\n"
     ]
    },
    {
     "name": "stdout",
     "output_type": "stream",
     "text": [
      "A0 =  -4.76\n"
     ]
    },
    {
     "name": "stderr",
     "output_type": "stream",
     "text": [
      "INFO - computing class_szfast done\n",
      "INFO - Collecting hmf\n",
      "INFO - Total clusters: 115.92060\n",
      "INFO - Collecting hmf\n",
      "INFO - Cosmology params: {'Om0': 0.31499999999999995, 'Ob0': 0.04897, 'Ob0h2': 0.022245895720000002, 'Oc0h2': 0.12085104428000001, 'h': 0.674, 'A_s': 2.0856609249807952e-09, 'n_s': 0.96, 'm_nu': 0.06, 'sigma_8': 0.8110000000000003, 'tau_reio': 0.0544, 'w0': -1.0, 'Onu0': 0.001418083698824921, 'N_eff': 3.046, 'k_cutoff': 100000000.0, 'ps_cutoff': 1, 'H0': 67.4, 'sigma8': 0.811}\n",
      "INFO - adding dndlnM to class_sz output\n",
      "INFO - computing class_szfast\n"
     ]
    },
    {
     "name": "stdout",
     "output_type": "stream",
     "text": [
      "Redshift bin edges:  0.2 0.4\n",
      "Average bias:  6.1188750684601985\n",
      "Total number counts bin:  115.92060369097788\n"
     ]
    },
    {
     "name": "stderr",
     "output_type": "stream",
     "text": [
      "INFO - computing class_szfast done\n",
      "INFO - Collecting hmf\n",
      "INFO - Total clusters: 97.52391\n",
      "INFO - Collecting hmf\n",
      "INFO - Cosmology params: {'Om0': 0.31499999999999995, 'Ob0': 0.04897, 'Ob0h2': 0.022245895720000002, 'Oc0h2': 0.12085104428000001, 'h': 0.674, 'A_s': 2.0856609249807952e-09, 'n_s': 0.96, 'm_nu': 0.06, 'sigma_8': 0.8110000000000003, 'tau_reio': 0.0544, 'w0': -1.0, 'Onu0': 0.001418083698824921, 'N_eff': 3.046, 'k_cutoff': 100000000.0, 'ps_cutoff': 1, 'H0': 67.4, 'sigma8': 0.811}\n",
      "INFO - adding dndlnM to class_sz output\n",
      "INFO - computing class_szfast\n"
     ]
    },
    {
     "name": "stdout",
     "output_type": "stream",
     "text": [
      "Redshift bin edges:  0.4 0.55\n",
      "Average bias:  6.99997571667805\n",
      "Total number counts bin:  97.5239122102115\n"
     ]
    },
    {
     "name": "stderr",
     "output_type": "stream",
     "text": [
      "INFO - computing class_szfast done\n",
      "INFO - Collecting hmf\n",
      "INFO - Total clusters: 78.59379\n",
      "INFO - Collecting hmf\n",
      "INFO - Cosmology params: {'Om0': 0.31499999999999995, 'Ob0': 0.04897, 'Ob0h2': 0.022245895720000002, 'Oc0h2': 0.12085104428000001, 'h': 0.674, 'A_s': 2.0856609249807952e-09, 'n_s': 0.96, 'm_nu': 0.06, 'sigma_8': 0.8110000000000003, 'tau_reio': 0.0544, 'w0': -1.0, 'Onu0': 0.001418083698824921, 'N_eff': 3.046, 'k_cutoff': 100000000.0, 'ps_cutoff': 1, 'H0': 67.4, 'sigma8': 0.811}\n",
      "INFO - adding dndlnM to class_sz output\n",
      "INFO - computing class_szfast\n"
     ]
    },
    {
     "name": "stdout",
     "output_type": "stream",
     "text": [
      "Redshift bin edges:  0.55 0.7\n",
      "Average bias:  7.842039044427968\n",
      "Total number counts bin:  78.5937853330309\n"
     ]
    },
    {
     "name": "stderr",
     "output_type": "stream",
     "text": [
      "INFO - computing class_szfast done\n",
      "INFO - Collecting hmf\n",
      "INFO - Total clusters: 54.36653\n",
      "INFO - Collecting hmf\n",
      "INFO - Cosmology params: {'Om0': 0.31499999999999995, 'Ob0': 0.04897, 'Ob0h2': 0.022245895720000002, 'Oc0h2': 0.12085104428000001, 'h': 0.674, 'A_s': 2.0856609249807952e-09, 'n_s': 0.96, 'm_nu': 0.06, 'sigma_8': 0.8110000000000003, 'tau_reio': 0.0544, 'w0': -1.0, 'Onu0': 0.001418083698824921, 'N_eff': 3.046, 'k_cutoff': 100000000.0, 'ps_cutoff': 1, 'H0': 67.4, 'sigma8': 0.811}\n",
      "INFO - adding dndlnM to class_sz output\n",
      "INFO - computing class_szfast\n"
     ]
    },
    {
     "name": "stdout",
     "output_type": "stream",
     "text": [
      "Redshift bin edges:  0.7 0.85\n",
      "Average bias:  8.716623130116508\n",
      "Total number counts bin:  54.36652703604093\n",
      "Total number counts:  346.4048282702612\n",
      "A0 =  -4.62\n"
     ]
    },
    {
     "name": "stderr",
     "output_type": "stream",
     "text": [
      "INFO - computing class_szfast done\n",
      "INFO - Collecting hmf\n",
      "INFO - Total clusters: 261.64199\n",
      "INFO - Collecting hmf\n",
      "INFO - Cosmology params: {'Om0': 0.31499999999999995, 'Ob0': 0.04897, 'Ob0h2': 0.022245895720000002, 'Oc0h2': 0.12085104428000001, 'h': 0.674, 'A_s': 2.0856609249807952e-09, 'n_s': 0.96, 'm_nu': 0.06, 'sigma_8': 0.8110000000000003, 'tau_reio': 0.0544, 'w0': -1.0, 'Onu0': 0.001418083698824921, 'N_eff': 3.046, 'k_cutoff': 100000000.0, 'ps_cutoff': 1, 'H0': 67.4, 'sigma8': 0.811}\n",
      "INFO - adding dndlnM to class_sz output\n",
      "INFO - computing class_szfast\n"
     ]
    },
    {
     "name": "stdout",
     "output_type": "stream",
     "text": [
      "Redshift bin edges:  0.2 0.4\n",
      "Average bias:  5.505153732276482\n",
      "Total number counts bin:  261.6419873077474\n"
     ]
    },
    {
     "name": "stderr",
     "output_type": "stream",
     "text": [
      "INFO - computing class_szfast done\n",
      "INFO - Collecting hmf\n",
      "INFO - Total clusters: 221.14432\n",
      "INFO - Collecting hmf\n",
      "INFO - Cosmology params: {'Om0': 0.31499999999999995, 'Ob0': 0.04897, 'Ob0h2': 0.022245895720000002, 'Oc0h2': 0.12085104428000001, 'h': 0.674, 'A_s': 2.0856609249807952e-09, 'n_s': 0.96, 'm_nu': 0.06, 'sigma_8': 0.8110000000000003, 'tau_reio': 0.0544, 'w0': -1.0, 'Onu0': 0.001418083698824921, 'N_eff': 3.046, 'k_cutoff': 100000000.0, 'ps_cutoff': 1, 'H0': 67.4, 'sigma8': 0.811}\n",
      "INFO - adding dndlnM to class_sz output\n",
      "INFO - computing class_szfast\n"
     ]
    },
    {
     "name": "stdout",
     "output_type": "stream",
     "text": [
      "Redshift bin edges:  0.4 0.55\n",
      "Average bias:  6.3384612898896755\n",
      "Total number counts bin:  221.14432357059138\n"
     ]
    },
    {
     "name": "stderr",
     "output_type": "stream",
     "text": [
      "INFO - computing class_szfast done\n",
      "INFO - Collecting hmf\n",
      "INFO - Total clusters: 183.18628\n",
      "INFO - Collecting hmf\n",
      "INFO - Cosmology params: {'Om0': 0.31499999999999995, 'Ob0': 0.04897, 'Ob0h2': 0.022245895720000002, 'Oc0h2': 0.12085104428000001, 'h': 0.674, 'A_s': 2.0856609249807952e-09, 'n_s': 0.96, 'm_nu': 0.06, 'sigma_8': 0.8110000000000003, 'tau_reio': 0.0544, 'w0': -1.0, 'Onu0': 0.001418083698824921, 'N_eff': 3.046, 'k_cutoff': 100000000.0, 'ps_cutoff': 1, 'H0': 67.4, 'sigma8': 0.811}\n",
      "INFO - adding dndlnM to class_sz output\n",
      "INFO - computing class_szfast\n"
     ]
    },
    {
     "name": "stdout",
     "output_type": "stream",
     "text": [
      "Redshift bin edges:  0.55 0.7\n",
      "Average bias:  7.124780437162704\n",
      "Total number counts bin:  183.18628354561926\n"
     ]
    },
    {
     "name": "stderr",
     "output_type": "stream",
     "text": [
      "INFO - computing class_szfast done\n",
      "INFO - Collecting hmf\n",
      "INFO - Total clusters: 131.48360\n",
      "INFO - Collecting hmf\n",
      "INFO - Cosmology params: {'Om0': 0.31499999999999995, 'Ob0': 0.04897, 'Ob0h2': 0.022245895720000002, 'Oc0h2': 0.12085104428000001, 'h': 0.674, 'A_s': 2.0856609249807952e-09, 'n_s': 0.96, 'm_nu': 0.06, 'sigma_8': 0.8110000000000003, 'tau_reio': 0.0544, 'w0': -1.0, 'Onu0': 0.001418083698824921, 'N_eff': 3.046, 'k_cutoff': 100000000.0, 'ps_cutoff': 1, 'H0': 67.4, 'sigma8': 0.811}\n",
      "INFO - adding dndlnM to class_sz output\n",
      "INFO - computing class_szfast\n"
     ]
    },
    {
     "name": "stdout",
     "output_type": "stream",
     "text": [
      "Redshift bin edges:  0.7 0.85\n",
      "Average bias:  7.939477681164276\n",
      "Total number counts bin:  131.48360021507705\n",
      "Total number counts:  797.4561946390352\n",
      "A0 =  -4.4\n"
     ]
    },
    {
     "name": "stderr",
     "output_type": "stream",
     "text": [
      "INFO - computing class_szfast done\n",
      "INFO - Collecting hmf\n",
      "INFO - Total clusters: 791.18225\n",
      "INFO - Collecting hmf\n",
      "INFO - Cosmology params: {'Om0': 0.31499999999999995, 'Ob0': 0.04897, 'Ob0h2': 0.022245895720000002, 'Oc0h2': 0.12085104428000001, 'h': 0.674, 'A_s': 2.0856609249807952e-09, 'n_s': 0.96, 'm_nu': 0.06, 'sigma_8': 0.8110000000000003, 'tau_reio': 0.0544, 'w0': -1.0, 'Onu0': 0.001418083698824921, 'N_eff': 3.046, 'k_cutoff': 100000000.0, 'ps_cutoff': 1, 'H0': 67.4, 'sigma8': 0.811}\n",
      "INFO - adding dndlnM to class_sz output\n",
      "INFO - computing class_szfast\n"
     ]
    },
    {
     "name": "stdout",
     "output_type": "stream",
     "text": [
      "Redshift bin edges:  0.2 0.4\n",
      "Average bias:  4.698482558124897\n",
      "Total number counts bin:  791.1822457200684\n"
     ]
    },
    {
     "name": "stderr",
     "output_type": "stream",
     "text": [
      "INFO - computing class_szfast done\n",
      "INFO - Collecting hmf\n",
      "INFO - Total clusters: 680.90145\n",
      "INFO - Collecting hmf\n",
      "INFO - Cosmology params: {'Om0': 0.31499999999999995, 'Ob0': 0.04897, 'Ob0h2': 0.022245895720000002, 'Oc0h2': 0.12085104428000001, 'h': 0.674, 'A_s': 2.0856609249807952e-09, 'n_s': 0.96, 'm_nu': 0.06, 'sigma_8': 0.8110000000000003, 'tau_reio': 0.0544, 'w0': -1.0, 'Onu0': 0.001418083698824921, 'N_eff': 3.046, 'k_cutoff': 100000000.0, 'ps_cutoff': 1, 'H0': 67.4, 'sigma8': 0.811}\n",
      "INFO - adding dndlnM to class_sz output\n",
      "INFO - computing class_szfast\n"
     ]
    },
    {
     "name": "stdout",
     "output_type": "stream",
     "text": [
      "Redshift bin edges:  0.4 0.55\n",
      "Average bias:  5.455446535384657\n",
      "Total number counts bin:  680.901445548813\n"
     ]
    },
    {
     "name": "stderr",
     "output_type": "stream",
     "text": [
      "INFO - computing class_szfast done\n",
      "INFO - Collecting hmf\n",
      "INFO - Total clusters: 589.91830\n",
      "INFO - Collecting hmf\n",
      "INFO - Cosmology params: {'Om0': 0.31499999999999995, 'Ob0': 0.04897, 'Ob0h2': 0.022245895720000002, 'Oc0h2': 0.12085104428000001, 'h': 0.674, 'A_s': 2.0856609249807952e-09, 'n_s': 0.96, 'm_nu': 0.06, 'sigma_8': 0.8110000000000003, 'tau_reio': 0.0544, 'w0': -1.0, 'Onu0': 0.001418083698824921, 'N_eff': 3.046, 'k_cutoff': 100000000.0, 'ps_cutoff': 1, 'H0': 67.4, 'sigma8': 0.811}\n",
      "INFO - adding dndlnM to class_sz output\n",
      "INFO - computing class_szfast\n"
     ]
    },
    {
     "name": "stdout",
     "output_type": "stream",
     "text": [
      "Redshift bin edges:  0.55 0.7\n",
      "Average bias:  6.157555986919342\n",
      "Total number counts bin:  589.918297868096\n"
     ]
    },
    {
     "name": "stderr",
     "output_type": "stream",
     "text": [
      "INFO - computing class_szfast done\n",
      "INFO - Collecting hmf\n",
      "INFO - Total clusters: 447.77767\n",
      "INFO - Collecting hmf\n",
      "INFO - Cosmology params: {'Om0': 0.31499999999999995, 'Ob0': 0.04897, 'Ob0h2': 0.022245895720000002, 'Oc0h2': 0.12085104428000001, 'h': 0.674, 'A_s': 2.0856609249807952e-09, 'n_s': 0.96, 'm_nu': 0.06, 'sigma_8': 0.8110000000000003, 'tau_reio': 0.0544, 'w0': -1.0, 'Onu0': 0.001418083698824921, 'N_eff': 3.046, 'k_cutoff': 100000000.0, 'ps_cutoff': 1, 'H0': 67.4, 'sigma8': 0.811}\n",
      "INFO - adding dndlnM to class_sz output\n",
      "INFO - computing class_szfast\n"
     ]
    },
    {
     "name": "stdout",
     "output_type": "stream",
     "text": [
      "Redshift bin edges:  0.7 0.85\n",
      "Average bias:  6.883415128879882\n",
      "Total number counts bin:  447.7776723038722\n",
      "Total number counts:  2509.77966144085\n",
      "A0 =  -4.3\n"
     ]
    },
    {
     "name": "stderr",
     "output_type": "stream",
     "text": [
      "INFO - computing class_szfast done\n",
      "INFO - Collecting hmf\n",
      "INFO - Total clusters: 1234.20332\n",
      "INFO - Collecting hmf\n",
      "INFO - Cosmology params: {'Om0': 0.31499999999999995, 'Ob0': 0.04897, 'Ob0h2': 0.022245895720000002, 'Oc0h2': 0.12085104428000001, 'h': 0.674, 'A_s': 2.0856609249807952e-09, 'n_s': 0.96, 'm_nu': 0.06, 'sigma_8': 0.8110000000000003, 'tau_reio': 0.0544, 'w0': -1.0, 'Onu0': 0.001418083698824921, 'N_eff': 3.046, 'k_cutoff': 100000000.0, 'ps_cutoff': 1, 'H0': 67.4, 'sigma8': 0.811}\n",
      "INFO - adding dndlnM to class_sz output\n",
      "INFO - computing class_szfast\n"
     ]
    },
    {
     "name": "stdout",
     "output_type": "stream",
     "text": [
      "Redshift bin edges:  0.2 0.4\n",
      "Average bias:  4.3868743494645335\n",
      "Total number counts bin:  1234.203318014652\n"
     ]
    },
    {
     "name": "stderr",
     "output_type": "stream",
     "text": [
      "INFO - computing class_szfast done\n",
      "INFO - Collecting hmf\n",
      "INFO - Total clusters: 1073.93450\n",
      "INFO - Collecting hmf\n",
      "INFO - Cosmology params: {'Om0': 0.31499999999999995, 'Ob0': 0.04897, 'Ob0h2': 0.022245895720000002, 'Oc0h2': 0.12085104428000001, 'h': 0.674, 'A_s': 2.0856609249807952e-09, 'n_s': 0.96, 'm_nu': 0.06, 'sigma_8': 0.8110000000000003, 'tau_reio': 0.0544, 'w0': -1.0, 'Onu0': 0.001418083698824921, 'N_eff': 3.046, 'k_cutoff': 100000000.0, 'ps_cutoff': 1, 'H0': 67.4, 'sigma8': 0.811}\n",
      "INFO - adding dndlnM to class_sz output\n",
      "INFO - computing class_szfast\n"
     ]
    },
    {
     "name": "stdout",
     "output_type": "stream",
     "text": [
      "Redshift bin edges:  0.4 0.55\n",
      "Average bias:  5.109378311743775\n",
      "Total number counts bin:  1073.9344977525668\n"
     ]
    },
    {
     "name": "stderr",
     "output_type": "stream",
     "text": [
      "INFO - computing class_szfast done\n",
      "INFO - Collecting hmf\n",
      "INFO - Total clusters: 949.59026\n",
      "INFO - Collecting hmf\n",
      "INFO - Cosmology params: {'Om0': 0.31499999999999995, 'Ob0': 0.04897, 'Ob0h2': 0.022245895720000002, 'Oc0h2': 0.12085104428000001, 'h': 0.674, 'A_s': 2.0856609249807952e-09, 'n_s': 0.96, 'm_nu': 0.06, 'sigma_8': 0.8110000000000003, 'tau_reio': 0.0544, 'w0': -1.0, 'Onu0': 0.001418083698824921, 'N_eff': 3.046, 'k_cutoff': 100000000.0, 'ps_cutoff': 1, 'H0': 67.4, 'sigma8': 0.811}\n",
      "INFO - adding dndlnM to class_sz output\n",
      "INFO - computing class_szfast\n"
     ]
    },
    {
     "name": "stdout",
     "output_type": "stream",
     "text": [
      "Redshift bin edges:  0.55 0.7\n",
      "Average bias:  5.775303581397416\n",
      "Total number counts bin:  949.5902646854672\n"
     ]
    },
    {
     "name": "stderr",
     "output_type": "stream",
     "text": [
      "INFO - computing class_szfast done\n",
      "INFO - Collecting hmf\n",
      "INFO - Total clusters: 738.44052\n",
      "INFO - Collecting hmf\n",
      "INFO - Cosmology params: {'Om0': 0.31499999999999995, 'Ob0': 0.04897, 'Ob0h2': 0.022245895720000002, 'Oc0h2': 0.12085104428000001, 'h': 0.674, 'A_s': 2.0856609249807952e-09, 'n_s': 0.96, 'm_nu': 0.06, 'sigma_8': 0.8110000000000003, 'tau_reio': 0.0544, 'w0': -1.0, 'Onu0': 0.001418083698824921, 'N_eff': 3.046, 'k_cutoff': 100000000.0, 'ps_cutoff': 1, 'H0': 67.4, 'sigma8': 0.811}\n",
      "INFO - adding dndlnM to class_sz output\n",
      "INFO - computing class_szfast\n"
     ]
    },
    {
     "name": "stdout",
     "output_type": "stream",
     "text": [
      "Redshift bin edges:  0.7 0.85\n",
      "Average bias:  6.463266436062512\n",
      "Total number counts bin:  738.4405244378169\n",
      "Total number counts:  3996.168604890503\n",
      "A0 =  -4.11\n"
     ]
    },
    {
     "name": "stderr",
     "output_type": "stream",
     "text": [
      "INFO - computing class_szfast done\n",
      "INFO - Collecting hmf\n",
      "INFO - Total clusters: 2645.56580\n",
      "INFO - Collecting hmf\n",
      "INFO - Cosmology params: {'Om0': 0.31499999999999995, 'Ob0': 0.04897, 'Ob0h2': 0.022245895720000002, 'Oc0h2': 0.12085104428000001, 'h': 0.674, 'A_s': 2.0856609249807952e-09, 'n_s': 0.96, 'm_nu': 0.06, 'sigma_8': 0.8110000000000003, 'tau_reio': 0.0544, 'w0': -1.0, 'Onu0': 0.001418083698824921, 'N_eff': 3.046, 'k_cutoff': 100000000.0, 'ps_cutoff': 1, 'H0': 67.4, 'sigma8': 0.811}\n",
      "INFO - adding dndlnM to class_sz output\n",
      "INFO - computing class_szfast\n"
     ]
    },
    {
     "name": "stdout",
     "output_type": "stream",
     "text": [
      "Redshift bin edges:  0.2 0.4\n",
      "Average bias:  3.8740348723553026\n",
      "Total number counts bin:  2645.565798692173\n"
     ]
    },
    {
     "name": "stderr",
     "output_type": "stream",
     "text": [
      "INFO - computing class_szfast done\n",
      "INFO - Collecting hmf\n",
      "INFO - Total clusters: 2357.55810\n",
      "INFO - Collecting hmf\n",
      "INFO - Cosmology params: {'Om0': 0.31499999999999995, 'Ob0': 0.04897, 'Ob0h2': 0.022245895720000002, 'Oc0h2': 0.12085104428000001, 'h': 0.674, 'A_s': 2.0856609249807952e-09, 'n_s': 0.96, 'm_nu': 0.06, 'sigma_8': 0.8110000000000003, 'tau_reio': 0.0544, 'w0': -1.0, 'Onu0': 0.001418083698824921, 'N_eff': 3.046, 'k_cutoff': 100000000.0, 'ps_cutoff': 1, 'H0': 67.4, 'sigma8': 0.811}\n",
      "INFO - adding dndlnM to class_sz output\n",
      "INFO - computing class_szfast\n"
     ]
    },
    {
     "name": "stdout",
     "output_type": "stream",
     "text": [
      "Redshift bin edges:  0.4 0.55\n",
      "Average bias:  4.532726752928332\n",
      "Total number counts bin:  2357.5581010790415\n"
     ]
    },
    {
     "name": "stderr",
     "output_type": "stream",
     "text": [
      "INFO - computing class_szfast done\n",
      "INFO - Collecting hmf\n",
      "INFO - Total clusters: 2164.24881\n",
      "INFO - Collecting hmf\n",
      "INFO - Cosmology params: {'Om0': 0.31499999999999995, 'Ob0': 0.04897, 'Ob0h2': 0.022245895720000002, 'Oc0h2': 0.12085104428000001, 'h': 0.674, 'A_s': 2.0856609249807952e-09, 'n_s': 0.96, 'm_nu': 0.06, 'sigma_8': 0.8110000000000003, 'tau_reio': 0.0544, 'w0': -1.0, 'Onu0': 0.001418083698824921, 'N_eff': 3.046, 'k_cutoff': 100000000.0, 'ps_cutoff': 1, 'H0': 67.4, 'sigma8': 0.811}\n",
      "INFO - adding dndlnM to class_sz output\n",
      "INFO - computing class_szfast\n"
     ]
    },
    {
     "name": "stdout",
     "output_type": "stream",
     "text": [
      "Redshift bin edges:  0.55 0.7\n",
      "Average bias:  5.134203030655436\n",
      "Total number counts bin:  2164.248809734692\n"
     ]
    },
    {
     "name": "stderr",
     "output_type": "stream",
     "text": [
      "INFO - computing class_szfast done\n",
      "INFO - Collecting hmf\n",
      "INFO - Total clusters: 1757.95209\n",
      "INFO - Collecting hmf\n"
     ]
    },
    {
     "name": "stdout",
     "output_type": "stream",
     "text": [
      "Redshift bin edges:  0.7 0.85\n",
      "Average bias:  5.754859207262883\n",
      "Total number counts bin:  1757.9520924199132\n",
      "Total number counts:  8925.324801925819\n"
     ]
    }
   ],
   "source": [
    "biases = np.zeros((len(A0_vec), len(zc_edges) - 1))\n",
    "\n",
    "for i in range(len(A0_vec)):\n",
    "    print(\"A0 = \", A0_vec[i])\n",
    "    number_counts.scal_rel_params.update({\n",
    "        'A0' : A0_vec[i],\n",
    "        # 'B0': 0.14,\n",
    "        # 'A0' : np.log10(3e-5),\n",
    "        'B0': 0.025,\n",
    "        'SZmPivot' : 3e14, #in Msun\n",
    "        'bias_sz' : 1.,\n",
    "        'sigma_lnq_act' : 0.1,\n",
    "        'C0' : 2.,\n",
    "        \"dof\":0.,\n",
    "        }\n",
    "        )\n",
    "\n",
    "    n_tot = 0.\n",
    "\n",
    "    for j in range(len(zc_edges) - 1):\n",
    "\n",
    "        number_counts.cnc_params.update({\n",
    "                \"z_min\": zc_edges[j],\n",
    "                \"z_max\": zc_edges[j+1],\n",
    "                \"bins_edges_z\": np.linspace(zc_edges[j], \\\n",
    "                                zc_edges[j+1], 100)\n",
    "        })\n",
    "\n",
    "        number_counts.update_params(number_counts.cosmo_params,number_counts.scal_rel_params, number_counts.cnc_params)\n",
    "\n",
    "        number_counts.get_number_counts() #Evaluate the binned likelihood\n",
    "        number_counts.get_bias_weighted_cluster_abundance() #Evaluate the binned likelihood\n",
    "\n",
    "        n_tot_bin = number_counts.n_tot\n",
    "        n_tot_bias_weighted = number_counts.n_tot_bias_weighted\n",
    "\n",
    "        biases[i, j] = n_tot_bias_weighted/n_tot_bin\n",
    "\n",
    "        print('Redshift bin edges: ', zc_edges[j], zc_edges[j+1])\n",
    "        print('Average bias: ', biases[i, j])\n",
    "        print('Total number counts bin: ', n_tot_bin)\n",
    "\n",
    "        n_tot += n_tot_bin\n",
    "\n",
    "    print('Total number counts: ', n_tot)"
   ]
  },
  {
   "cell_type": "code",
   "execution_count": 13,
   "metadata": {},
   "outputs": [],
   "source": [
    "z_means = 0.5*(zc_edges[1:] + zc_edges[:-1])"
   ]
  },
  {
   "cell_type": "code",
   "execution_count": 14,
   "metadata": {},
   "outputs": [],
   "source": [
    "bias_vec = np.array([4.38, 5.22, 7.8, 1.91])\n",
    "bias_std = np.array([0.67, 0.79, 1.3, 0.87])"
   ]
  },
  {
   "cell_type": "code",
   "execution_count": 17,
   "metadata": {},
   "outputs": [
    {
     "data": {
      "image/png": "[encoded data removed]",
      "text/plain": [
       "<Figure size 640x480 with 1 Axes>"
      ]
     },
     "metadata": {},
     "output_type": "display_data"
    }
   ],
   "source": [
    "plt.errorbar(z_means, bias_vec, yerr=bias_std, \\\n",
    "             linestyle=\"none\",marker='.', label='ACT DR5', color=colors[3])\n",
    "plt.fill_between(z_means, biases[0], biases[-1], alpha=0.2, color=colors[0], label='95% CL')\n",
    "plt.fill_between(z_means, biases[1], biases[3], alpha=0.4, color=colors[-1], label='68% CL')\n",
    "plt.plot(z_means, biases[2], label='best fit', color=colors[4])\n",
    "plt.xlabel(\"$z$\")\n",
    "plt.ylabel(\"$b$\")\n",
    "plt.legend(frameon=False)\n",
    "plt.show()"
   ]
  },
  {
   "cell_type": "code",
   "execution_count": null,
   "metadata": {},
   "outputs": [],
   "source": []
  }
 ],
 "metadata": {
  "kernelspec": {
   "display_name": "act-clust",
   "language": "python",
   "name": "python3"
  },
  "language_info": {
   "codemirror_mode": {
    "name": "ipython",
    "version": 3
   },
   "file_extension": ".py",
   "mimetype": "text/x-python",
   "name": "python",
   "nbconvert_exporter": "python",
   "pygments_lexer": "ipython3",
   "version": "3.11.11"
  }
 },
 "nbformat": 4,
 "nbformat_minor": 2
}
