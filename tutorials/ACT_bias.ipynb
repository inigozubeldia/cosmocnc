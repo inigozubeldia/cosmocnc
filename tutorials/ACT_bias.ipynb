{
 "cells": [
  {
   "cell_type": "code",
   "execution_count": 1,
   "metadata": {},
   "outputs": [
    {
     "name": "stderr",
     "output_type": "stream",
     "text": [
      "2025-03-05 09:48:06.649085: E external/local_xla/xla/stream_executor/cuda/cuda_fft.cc:477] Unable to register cuFFT factory: Attempting to register factory for plugin cuFFT when one has already been registered\n",
      "WARNING: All log messages before absl::InitializeLog() is called are written to STDERR\n",
      "E0000 00:00:1741164486.662606 1871911 cuda_dnn.cc:8310] Unable to register cuDNN factory: Attempting to register factory for plugin cuDNN when one has already been registered\n",
      "E0000 00:00:1741164486.666414 1871911 cuda_blas.cc:1418] Unable to register cuBLAS factory: Attempting to register factory for plugin cuBLAS when one has already been registered\n"
     ]
    },
    {
     "name": "stdout",
     "output_type": "stream",
     "text": [
      "Warning: PATH_TO_COSMOPOWER_ORGANIZATION is not set.\n",
      "defaulting to  /rds-d4/user/iz221/hpc-work/cosmopower/\n",
      "Warning: PATH_TO_COSMOCNC is not set.\n",
      "defaulting to  /home/anicola_hpc/projects/ACT_clustering/code/cosmocnc/cosmocnc/../\n"
     ]
    }
   ],
   "source": [
    "import numpy as np\n",
    "import pylab as pl\n",
    "import cosmocnc as cnc\n",
    "import time"
   ]
  },
  {
   "cell_type": "code",
   "execution_count": 2,
   "metadata": {},
   "outputs": [],
   "source": [
    "zc_edges = np.array([0.2, 0.4, 0.55, 0.7, 0.85])"
   ]
  },
  {
   "cell_type": "code",
   "execution_count": 3,
   "metadata": {},
   "outputs": [
    {
     "name": "stderr",
     "output_type": "stream",
     "text": [
      "INFO - Cosmology params: {'Om0': 0.315, 'Ob0': 0.04897, 'Ob0h2': 0.022657600000000007, 'Oc0h2': 0.12068640000000003, 'h': 0.68, 'A_s': 2.080447023199556e-09, 'n_s': 0.965, 'm_nu': 6e-06, 'sigma_8': 0.811, 'tau_reio': 0.0561, 'w0': -1.0, 'Onu0': 0.00141808, 'N_eff': 3.046, 'k_cutoff': 100000000.0, 'ps_cutoff': 1, 'H0': 68.0, 'sigma8': 0.81}\n"
     ]
    },
    {
     "name": "stdout",
     "output_type": "stream",
     "text": [
      "PATH_TO_CLASS_SZ_DATA not set. Setting it now...\n",
      "Defaulting to: /home/anicola_hpc/class_sz_data_directory\n"
     ]
    },
    {
     "name": "stderr",
     "output_type": "stream",
     "text": [
      "2025-03-05 09:48:08.791156: E external/local_xla/xla/stream_executor/cuda/cuda_driver.cc:152] failed call to cuInit: INTERNAL: CUDA error: Failed call to cuInit: UNKNOWN ERROR (303)\n",
      "INFO - adding dndlnM to class_sz output\n",
      "INFO - computing class_szfast\n",
      "/home/anicola_hpc/.conda/envs/act-clust/lib/python3.11/site-packages/mcfit/mcfit.py:130: UserWarning: use backend='jax' if desired\n",
      "  warnings.warn(\"use backend='jax' if desired\")\n",
      "INFO - computing class_szfast done\n",
      "INFO - Cosmology params: {'Om0': 0.31, 'Ob0': 0.04900000000000001, 'Ob0h2': 0.022657600000000007, 'Oc0h2': 0.12068640000000003, 'h': 0.68, 'A_s': 2.0866006382888505e-09, 'n_s': 0.965, 'm_nu': 6e-06, 'sigma_8': 0.811, 'tau_reio': 0.0561, 'w0': -1.0, 'Onu0': 0.0013931690968152894, 'N_eff': 3.046, 'k_cutoff': 100000000.0, 'ps_cutoff': 1, 'H0': 68.0, 'sigma8': 0.81}\n",
      "INFO - adding dndlnM to class_sz output\n",
      "INFO - computing class_szfast\n",
      "INFO - computing class_szfast done\n",
      "INFO - Collecting hmf\n",
      "INFO - Total clusters: 708.27464\n",
      "INFO - Collecting hmf\n",
      "INFO - Cosmology params: {'Om0': 0.31, 'Ob0': 0.04900000000000001, 'Ob0h2': 0.022657600000000007, 'Oc0h2': 0.12068640000000003, 'h': 0.68, 'A_s': 2.0866006382888505e-09, 'n_s': 0.965, 'm_nu': 6e-06, 'sigma_8': 0.811, 'tau_reio': 0.0561, 'w0': -1.0, 'Onu0': 0.0013931690968152894, 'N_eff': 3.046, 'k_cutoff': 100000000.0, 'ps_cutoff': 1, 'H0': 68.0, 'sigma8': 0.81}\n",
      "INFO - adding dndlnM to class_sz output\n",
      "INFO - computing class_szfast\n"
     ]
    },
    {
     "name": "stdout",
     "output_type": "stream",
     "text": [
      "Redshift bin edges:  0.2 0.4\n",
      "Average bias:  5.685251694733975\n"
     ]
    },
    {
     "name": "stderr",
     "output_type": "stream",
     "text": [
      "INFO - computing class_szfast done\n",
      "INFO - Collecting hmf\n",
      "INFO - Total clusters: 623.63282\n",
      "INFO - Collecting hmf\n",
      "INFO - Cosmology params: {'Om0': 0.31, 'Ob0': 0.04900000000000001, 'Ob0h2': 0.022657600000000007, 'Oc0h2': 0.12068640000000003, 'h': 0.68, 'A_s': 2.0866006382888505e-09, 'n_s': 0.965, 'm_nu': 6e-06, 'sigma_8': 0.811, 'tau_reio': 0.0561, 'w0': -1.0, 'Onu0': 0.0013931690968152894, 'N_eff': 3.046, 'k_cutoff': 100000000.0, 'ps_cutoff': 1, 'H0': 68.0, 'sigma8': 0.81}\n",
      "INFO - adding dndlnM to class_sz output\n",
      "INFO - computing class_szfast\n"
     ]
    },
    {
     "name": "stdout",
     "output_type": "stream",
     "text": [
      "Redshift bin edges:  0.4 0.55\n",
      "Average bias:  6.498779864761472\n"
     ]
    },
    {
     "name": "stderr",
     "output_type": "stream",
     "text": [
      "INFO - computing class_szfast done\n",
      "INFO - Collecting hmf\n",
      "INFO - Total clusters: 533.07343\n",
      "INFO - Collecting hmf\n",
      "INFO - Cosmology params: {'Om0': 0.31, 'Ob0': 0.04900000000000001, 'Ob0h2': 0.022657600000000007, 'Oc0h2': 0.12068640000000003, 'h': 0.68, 'A_s': 2.0866006382888505e-09, 'n_s': 0.965, 'm_nu': 6e-06, 'sigma_8': 0.811, 'tau_reio': 0.0561, 'w0': -1.0, 'Onu0': 0.0013931690968152894, 'N_eff': 3.046, 'k_cutoff': 100000000.0, 'ps_cutoff': 1, 'H0': 68.0, 'sigma8': 0.81}\n",
      "INFO - adding dndlnM to class_sz output\n",
      "INFO - computing class_szfast\n"
     ]
    },
    {
     "name": "stdout",
     "output_type": "stream",
     "text": [
      "Redshift bin edges:  0.55 0.7\n",
      "Average bias:  7.258837945208517\n"
     ]
    },
    {
     "name": "stderr",
     "output_type": "stream",
     "text": [
      "INFO - computing class_szfast done\n",
      "INFO - Collecting hmf\n",
      "INFO - Total clusters: 396.78785\n",
      "INFO - Collecting hmf\n"
     ]
    },
    {
     "name": "stdout",
     "output_type": "stream",
     "text": [
      "Redshift bin edges:  0.7 0.85\n",
      "Average bias:  8.037982322087682\n"
     ]
    }
   ],
   "source": [
    "number_counts = cnc.cluster_number_counts()\n",
    "\n",
    "number_counts.cnc_params[\"survey_sr\"] = \"/home/anicola_hpc/projects/ACT_clustering/scripts/survey_sr_act.py\"\n",
    "number_counts.cnc_params[\"survey_cat\"] = None\n",
    "\n",
    "number_counts.cnc_params[\"load_catalogue\"] = False\n",
    "\n",
    "number_counts.cnc_params[\"cluster_catalogue\"] = \"act\"\n",
    "number_counts.cnc_params[\"observables\"] =  [[\"q_act\"]]\n",
    "number_counts.cnc_params[\"obs_select\"] = \"q_act\"\n",
    "\n",
    "number_counts.cnc_params[\"likelihood_type\"] = \"unbinned\"\n",
    "number_counts.cnc_params[\"data_lik_from_abundance\"] = True\n",
    "number_counts.cnc_params[\"compute_abundance_matrix\"] = True\n",
    "\n",
    "number_counts.cnc_params[\"obs_select_min\"] = 5.\n",
    "number_counts.cnc_params[\"obs_select_max\"] = 200.\n",
    "number_counts.cnc_params[\"M_min\"] = 5e13\n",
    "number_counts.cnc_params[\"M_max\"] = 1e16\n",
    "\n",
    "number_counts.cnc_params[\"n_points\"] = 1024*16\n",
    "number_counts.cnc_params[\"n_z\"] = 100\n",
    "\n",
    "number_counts.cnc_params[\"scalrel_type_deriv\"] = \"numerical\"\n",
    "number_counts.cnc_params[\"abundance_integral_type\"] = \"fft\"\n",
    "number_counts.cnc_params[\"apply_obs_cutoff\"] = False\n",
    "\n",
    "number_counts.cnc_params[\"cosmology_tool\"] = \"classy_sz\"\n",
    "number_counts.cnc_params[\"hmf_calc\"] = \"classy_sz\"\n",
    "number_counts.cnc_params[\"class_sz_hmf\"] = \"T08M200c\"\n",
    "number_counts.cnc_params[\"mass_definition\"] = \"200c\"\n",
    "number_counts.cnc_params[\"hmf_type_deriv\"] = \"numerical\"\n",
    "# number_counts.cnc_params[\"interp_tinker\"] = \"linear\"\n",
    "\n",
    "\n",
    "number_counts.cnc_params[\"number_cores_hmf\"] = 1\n",
    "number_counts.cnc_params[\"number_cores_abundance\"] = 1#8\n",
    "number_counts.cnc_params[\"number_cores_data\"] = 1# 8\n",
    "number_counts.cnc_params[\"parallelise_type\"] = \"redshift\"\n",
    "\n",
    "number_counts.cnc_params[\"cosmo_amplitude_parameter\"] = \"sigma_8\"\n",
    "number_counts.cnc_params[\"Hubble_parameter\"] = \"H0\"\n",
    "number_counts.cnc_params[\"cosmo_param_density\"] = \"physical\"\n",
    "number_counts.cnc_params[\"class_sz_cosmo_model\"] = \"mnu\"\n",
    "number_counts.cnc_params[\"cosmo_model\"] = number_counts.cnc_params[\"class_sz_cosmo_model\"]\n",
    "\n",
    "#    \"class_sz_cosmo_model\": \"lcdm\", # lcdm, mnu, neff, wcdm, ede\n",
    "\n",
    "number_counts.cnc_params[\"cosmocnc_verbose\"] = \"minimal\"\n",
    "\n",
    "number_counts.cnc_params[\"likelihood_type\"] = \"binned\"\n",
    "number_counts.cnc_params[\"obs_select_min\"] = 5.000\n",
    "\n",
    "number_counts.scal_rel_params[\"q_cutoff\"] = 0.\n",
    "\n",
    "number_counts.cnc_params[\"bins_edges_obs_select\"] = np.exp(np.linspace(np.log(number_counts.cnc_params[\"obs_select_min\"]), \\\n",
    "                                                                    np.log(number_counts.cnc_params[\"obs_select_max\"]),7))\n",
    "\n",
    "number_counts.scal_rel_params.update({\n",
    "'A0' : np.log10(2.2e-05),\n",
    "'B0': 0.08,\n",
    "'SZmPivot' : 4.25e14, #in Msun\n",
    "'bias_sz' : 1.,\n",
    "'sigma_lnq_act' : 0.2,\n",
    "'C0' : 2.,\n",
    "\"dof\":0.,\n",
    "}\n",
    ")\n",
    "\n",
    "number_counts.cosmo_params.update({\n",
    "\n",
    "\"Ob0h2\":0.049*0.68**2,\n",
    "\"Oc0h2\":(0.261)*0.68**2,\n",
    "'H0': 68.,\n",
    "'h': 0.68,\n",
    "'sigma8': 0.81,\n",
    "'tau_reio':  0.0561,\n",
    "'n_s': 0.965,\n",
    "\"m_nu\":0.000006,\n",
    "\"A_s\":2.080447023199556e-09,\n",
    "}\n",
    ")\n",
    "\n",
    "number_counts.initialise()\n",
    "\n",
    "for i in range(len(zc_edges) - 1):\n",
    "\n",
    "    number_counts.cnc_params.update({\n",
    "            \"z_min\": zc_edges[i],\n",
    "            \"z_max\": zc_edges[i+1],\n",
    "            \"bins_edges_z\": np.linspace(zc_edges[i], \\\n",
    "                            zc_edges[i+1],9)\n",
    "    })\n",
    "\n",
    "    number_counts.update_params(number_counts.cosmo_params,number_counts.scal_rel_params, number_counts.cnc_params)\n",
    "\n",
    "    number_counts.get_number_counts() #Evaluate the binned likelihood\n",
    "    number_counts.get_bias_weighted_cluster_abundance() #Evaluate the binned likelihood\n",
    "\n",
    "    n_tot = number_counts.n_tot\n",
    "    n_tot_bias_weighted = number_counts.n_tot_bias_weighted\n",
    "\n",
    "    bias_mean = n_tot_bias_weighted/n_tot\n",
    "\n",
    "    print('Redshift bin edges: ', zc_edges[i], zc_edges[i+1])\n",
    "    print('Average bias: ', bias_mean)"
   ]
  },
  {
   "cell_type": "code",
   "execution_count": null,
   "metadata": {},
   "outputs": [],
   "source": []
  }
 ],
 "metadata": {
  "kernelspec": {
   "display_name": "Python 3",
   "language": "python",
   "name": "python3"
  },
  "language_info": {
   "codemirror_mode": {
    "name": "ipython",
    "version": 3
   },
   "file_extension": ".py",
   "mimetype": "text/x-python",
   "name": "python",
   "nbconvert_exporter": "python",
   "pygments_lexer": "ipython3",
   "version": "3.11.11"
  }
 },
 "nbformat": 4,
 "nbformat_minor": 2
}
