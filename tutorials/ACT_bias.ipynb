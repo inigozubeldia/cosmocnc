{
 "cells": [
  {
   "cell_type": "code",
   "execution_count": 1,
   "metadata": {},
   "outputs": [
    {
     "name": "stderr",
     "output_type": "stream",
     "text": [
      "2025-04-13 16:18:08.124688: E external/local_xla/xla/stream_executor/cuda/cuda_fft.cc:477] Unable to register cuFFT factory: Attempting to register factory for plugin cuFFT when one has already been registered\n",
      "WARNING: All log messages before absl::InitializeLog() is called are written to STDERR\n",
      "E0000 00:00:1744553888.138034 4112732 cuda_dnn.cc:8310] Unable to register cuDNN factory: Attempting to register factory for plugin cuDNN when one has already been registered\n",
      "E0000 00:00:1744553888.141670 4112732 cuda_blas.cc:1418] Unable to register cuBLAS factory: Attempting to register factory for plugin cuBLAS when one has already been registered\n"
     ]
    },
    {
     "name": "stdout",
     "output_type": "stream",
     "text": [
      "Warning: PATH_TO_COSMOPOWER_ORGANIZATION is not set.\n",
      "defaulting to  /rds-d4/user/iz221/hpc-work/cosmopower/\n",
      "Warning: PATH_TO_COSMOCNC is not set.\n",
      "defaulting to  /home/anicola_hpc/projects/ACT_clustering/code/cosmocnc/cosmocnc/../\n"
     ]
    }
   ],
   "source": [
    "import numpy as np\n",
    "import pylab as pl\n",
    "import cosmocnc as cnc\n",
    "import time\n",
    "from astropy.io import fits"
   ]
  },
  {
   "cell_type": "code",
   "execution_count": 2,
   "metadata": {},
   "outputs": [],
   "source": [
    "zc_edges = np.array([0.2, 0.4, 0.55, 0.7, 0.85])"
   ]
  },
  {
   "cell_type": "code",
   "execution_count": 10,
   "metadata": {},
   "outputs": [],
   "source": [
    "number_counts = cnc.cluster_number_counts()\n",
    "\n",
    "number_counts.cnc_params[\"survey_sr\"] = \"/home/anicola_hpc/projects/ACT_clustering/scripts/survey_sr_act_DES.py\"\n",
    "number_counts.cnc_params[\"survey_cat\"] = None\n",
    "\n",
    "number_counts.cnc_params[\"load_catalogue\"] = False\n",
    "\n",
    "number_counts.cnc_params[\"cluster_catalogue\"] = \"act\"\n",
    "number_counts.cnc_params[\"observables\"] =  [[\"q_act\"]]\n",
    "number_counts.cnc_params[\"obs_select\"] = \"q_act\"\n",
    "\n",
    "number_counts.cnc_params[\"likelihood_type\"] = \"unbinned\"\n",
    "number_counts.cnc_params[\"data_lik_from_abundance\"] = True\n",
    "number_counts.cnc_params[\"compute_abundance_matrix\"] = True\n",
    "\n",
    "number_counts.cnc_params[\"obs_select_min\"] = 5.\n",
    "number_counts.cnc_params[\"obs_select_max\"] = 200.\n",
    "number_counts.cnc_params[\"M_min\"] = 5e13\n",
    "number_counts.cnc_params[\"M_max\"] = 1e16\n",
    "number_counts.cnc_params[\"z_min\"] = 0.2\n",
    "number_counts.cnc_params[\"z_max\"] = 0.85\n",
    "\n",
    "number_counts.cnc_params[\"n_points\"] = 1024*16\n",
    "number_counts.cnc_params[\"n_z\"] = 100\n",
    "\n",
    "number_counts.cnc_params[\"scalrel_type_deriv\"] = \"numerical\"\n",
    "number_counts.cnc_params[\"abundance_integral_type\"] = \"fft\"\n",
    "number_counts.cnc_params[\"apply_obs_cutoff\"] = False\n",
    "\n",
    "number_counts.cnc_params[\"cosmology_tool\"] = \"classy_sz\"\n",
    "number_counts.cnc_params[\"hmf_calc\"] = \"classy_sz\"\n",
    "number_counts.cnc_params[\"class_sz_hmf\"] = \"T08M200c\"\n",
    "number_counts.cnc_params[\"mass_definition\"] = \"200c\"\n",
    "number_counts.cnc_params[\"hmf_type_deriv\"] = \"numerical\"\n",
    "# number_counts.cnc_params[\"interp_tinker\"] = \"linear\"\n",
    "\n",
    "\n",
    "number_counts.cnc_params[\"number_cores_hmf\"] = 1\n",
    "number_counts.cnc_params[\"number_cores_abundance\"] = 1#8\n",
    "number_counts.cnc_params[\"number_cores_data\"] = 1# 8\n",
    "number_counts.cnc_params[\"parallelise_type\"] = \"redshift\"\n",
    "\n",
    "number_counts.cnc_params[\"cosmo_amplitude_parameter\"] = \"sigma_8\"\n",
    "number_counts.cnc_params[\"Hubble_parameter\"] = \"H0\"\n",
    "number_counts.cnc_params[\"cosmo_param_density\"] = \"physical\"\n",
    "number_counts.cnc_params[\"class_sz_cosmo_model\"] = \"mnu\"\n",
    "number_counts.cnc_params[\"cosmo_model\"] = number_counts.cnc_params[\"class_sz_cosmo_model\"]\n",
    "\n",
    "#    \"class_sz_cosmo_model\": \"lcdm\", # lcdm, mnu, neff, wcdm, ede\n",
    "\n",
    "number_counts.cnc_params[\"cosmocnc_verbose\"] = \"minimal\"\n",
    "\n",
    "number_counts.cnc_params[\"likelihood_type\"] = \"binned\"\n",
    "number_counts.cnc_params[\"obs_select_min\"] = 5.000\n",
    "\n",
    "number_counts.scal_rel_params[\"q_cutoff\"] = 0.\n",
    "\n",
    "number_counts.cnc_params[\"bins_edges_obs_select\"] = np.exp(np.linspace(np.log(number_counts.cnc_params[\"obs_select_min\"]), \\\n",
    "                                                                    np.log(number_counts.cnc_params[\"obs_select_max\"]),7))\n",
    "\n",
    "number_counts.scal_rel_params.update({\n",
    "'A0' : np.log10(2.2e-05),\n",
    "'B0': 0.08,\n",
    "'SZmPivot' : 4.25e14, #in Msun\n",
    "'bias_sz' : 1.,\n",
    "'sigma_lnq_act' : 0.2,\n",
    "'C0' : 2.,\n",
    "\"dof\":0.,\n",
    "}\n",
    ")\n",
    "\n",
    "number_counts.cosmo_params.update({\n",
    "\n",
    "\"Ob0h2\":0.049*0.68**2,\n",
    "\"Oc0h2\":(0.261)*0.68**2,\n",
    "'H0': 68.,\n",
    "'h': 0.68,\n",
    "'sigma8': 0.81,\n",
    "'tau_reio':  0.0561,\n",
    "'n_s': 0.965,\n",
    "\"m_nu\":0.000006,\n",
    "\"A_s\":2.080447023199556e-09,\n",
    "}\n",
    ")"
   ]
  },
  {
   "cell_type": "code",
   "execution_count": 11,
   "metadata": {},
   "outputs": [
    {
     "name": "stderr",
     "output_type": "stream",
     "text": [
      "INFO - Cosmology params: {'Om0': 0.31, 'Ob0': 0.04900000000000001, 'Ob0h2': 0.022657600000000007, 'Oc0h2': 0.12068640000000003, 'h': 0.68, 'A_s': 2.080447023199556e-09, 'n_s': 0.965, 'm_nu': 6e-06, 'sigma_8': 0.811, 'tau_reio': 0.0561, 'w0': -1.0, 'Onu0': 0.0013931690968152894, 'N_eff': 3.046, 'k_cutoff': 100000000.0, 'ps_cutoff': 1, 'H0': 68.0, 'sigma8': 0.81}\n",
      "INFO - adding dndlnM to class_sz output\n",
      "INFO - computing class_szfast\n",
      "INFO - computing class_szfast done\n",
      "INFO - Collecting hmf\n",
      "INFO - Total clusters: 687.59741\n"
     ]
    },
    {
     "name": "stdout",
     "output_type": "stream",
     "text": [
      "687.5974148361406\n"
     ]
    }
   ],
   "source": [
    "number_counts.initialise()\n",
    "\n",
    "number_counts.get_number_counts() #Evaluate the binned likelihood\n",
    "\n",
    "n_tot = number_counts.n_tot\n",
    "\n",
    "print(n_tot)"
   ]
  },
  {
   "cell_type": "code",
   "execution_count": 5,
   "metadata": {},
   "outputs": [
    {
     "name": "stderr",
     "output_type": "stream",
     "text": [
      "INFO - Cosmology params: {'Om0': 0.31, 'Ob0': 0.04900000000000001, 'Ob0h2': 0.022657600000000007, 'Oc0h2': 0.12068640000000003, 'h': 0.68, 'A_s': 2.0866006382888505e-09, 'n_s': 0.965, 'm_nu': 6e-06, 'sigma_8': 0.811, 'tau_reio': 0.0561, 'w0': -1.0, 'Onu0': 0.0013931690968152894, 'N_eff': 3.046, 'k_cutoff': 100000000.0, 'ps_cutoff': 1, 'H0': 68.0, 'sigma8': 0.81}\n",
      "INFO - adding dndlnM to class_sz output\n",
      "INFO - computing class_szfast\n",
      "INFO - computing class_szfast done\n",
      "INFO - Collecting hmf\n",
      "INFO - Total clusters: 209.99297\n",
      "INFO - Collecting hmf\n",
      "INFO - Cosmology params: {'Om0': 0.31, 'Ob0': 0.04900000000000001, 'Ob0h2': 0.022657600000000007, 'Oc0h2': 0.12068640000000003, 'h': 0.68, 'A_s': 2.0866006382888505e-09, 'n_s': 0.965, 'm_nu': 6e-06, 'sigma_8': 0.811, 'tau_reio': 0.0561, 'w0': -1.0, 'Onu0': 0.0013931690968152894, 'N_eff': 3.046, 'k_cutoff': 100000000.0, 'ps_cutoff': 1, 'H0': 68.0, 'sigma8': 0.81}\n",
      "INFO - adding dndlnM to class_sz output\n",
      "INFO - computing class_szfast\n"
     ]
    },
    {
     "name": "stdout",
     "output_type": "stream",
     "text": [
      "Redshift bin edges:  0.2 0.4\n",
      "Average bias:  6.0795890430665125\n",
      "Total number counts bin:  209.9929741668106\n"
     ]
    },
    {
     "name": "stderr",
     "output_type": "stream",
     "text": [
      "INFO - computing class_szfast done\n",
      "INFO - Collecting hmf\n",
      "INFO - Total clusters: 191.43440\n",
      "INFO - Collecting hmf\n",
      "INFO - Cosmology params: {'Om0': 0.31, 'Ob0': 0.04900000000000001, 'Ob0h2': 0.022657600000000007, 'Oc0h2': 0.12068640000000003, 'h': 0.68, 'A_s': 2.0866006382888505e-09, 'n_s': 0.965, 'm_nu': 6e-06, 'sigma_8': 0.811, 'tau_reio': 0.0561, 'w0': -1.0, 'Onu0': 0.0013931690968152894, 'N_eff': 3.046, 'k_cutoff': 100000000.0, 'ps_cutoff': 1, 'H0': 68.0, 'sigma8': 0.81}\n",
      "INFO - adding dndlnM to class_sz output\n",
      "INFO - computing class_szfast\n"
     ]
    },
    {
     "name": "stdout",
     "output_type": "stream",
     "text": [
      "Redshift bin edges:  0.4 0.55\n",
      "Average bias:  6.889954397713498\n",
      "Total number counts bin:  191.43439974252283\n"
     ]
    },
    {
     "name": "stderr",
     "output_type": "stream",
     "text": [
      "INFO - computing class_szfast done\n",
      "INFO - Collecting hmf\n",
      "INFO - Total clusters: 164.50120\n",
      "INFO - Collecting hmf\n",
      "INFO - Cosmology params: {'Om0': 0.31, 'Ob0': 0.04900000000000001, 'Ob0h2': 0.022657600000000007, 'Oc0h2': 0.12068640000000003, 'h': 0.68, 'A_s': 2.0866006382888505e-09, 'n_s': 0.965, 'm_nu': 6e-06, 'sigma_8': 0.811, 'tau_reio': 0.0561, 'w0': -1.0, 'Onu0': 0.0013931690968152894, 'N_eff': 3.046, 'k_cutoff': 100000000.0, 'ps_cutoff': 1, 'H0': 68.0, 'sigma8': 0.81}\n",
      "INFO - adding dndlnM to class_sz output\n",
      "INFO - computing class_szfast\n"
     ]
    },
    {
     "name": "stdout",
     "output_type": "stream",
     "text": [
      "Redshift bin edges:  0.55 0.7\n",
      "Average bias:  7.683793115032606\n",
      "Total number counts bin:  164.50120334008406\n"
     ]
    },
    {
     "name": "stderr",
     "output_type": "stream",
     "text": [
      "INFO - computing class_szfast done\n",
      "INFO - Collecting hmf\n",
      "INFO - Total clusters: 121.68425\n",
      "INFO - Collecting hmf\n"
     ]
    },
    {
     "name": "stdout",
     "output_type": "stream",
     "text": [
      "Redshift bin edges:  0.7 0.85\n",
      "Average bias:  8.512504684030837\n",
      "Total number counts bin:  121.68424704597201\n",
      "Total number counts:  687.6128242953895\n"
     ]
    }
   ],
   "source": [
    "n_tot = 0.\n",
    "\n",
    "for i in range(len(zc_edges) - 1):\n",
    "\n",
    "    number_counts.cnc_params.update({\n",
    "            \"z_min\": zc_edges[i],\n",
    "            \"z_max\": zc_edges[i+1],\n",
    "            \"bins_edges_z\": np.linspace(zc_edges[i], \\\n",
    "                            zc_edges[i+1], 100)\n",
    "    })\n",
    "\n",
    "    number_counts.update_params(number_counts.cosmo_params,number_counts.scal_rel_params, number_counts.cnc_params)\n",
    "\n",
    "    number_counts.get_number_counts() #Evaluate the binned likelihood\n",
    "    number_counts.get_bias_weighted_cluster_abundance() #Evaluate the binned likelihood\n",
    "\n",
    "    n_tot_bin = number_counts.n_tot\n",
    "    n_tot_bias_weighted = number_counts.n_tot_bias_weighted\n",
    "\n",
    "    bias_mean = n_tot_bias_weighted/n_tot_bin\n",
    "\n",
    "    print('Redshift bin edges: ', zc_edges[i], zc_edges[i+1])\n",
    "    print('Average bias: ', bias_mean)\n",
    "    print('Total number counts bin: ', n_tot_bin)\n",
    "\n",
    "    n_tot += n_tot_bin\n",
    "\n",
    "print('Total number counts: ', n_tot)"
   ]
  },
  {
   "cell_type": "markdown",
   "metadata": {},
   "source": [
    "### Checking against catalog"
   ]
  },
  {
   "cell_type": "code",
   "execution_count": 6,
   "metadata": {},
   "outputs": [],
   "source": [
    "file_catalog = '/lustre/scratch/data/anicola_hpc-ACT_clustering/data/DR5ClusterSearch/DR5ClusterSearch_optimalCatalog.fits'\n",
    "\n",
    "hdulist = fits.open(file_catalog)\n",
    "\n",
    "cat = hdulist[1].data"
   ]
  },
  {
   "cell_type": "markdown",
   "metadata": {},
   "source": [
    "Number of clusters in DES footprint"
   ]
  },
  {
   "cell_type": "code",
   "execution_count": 7,
   "metadata": {},
   "outputs": [
    {
     "data": {
      "text/plain": [
       "948"
      ]
     },
     "execution_count": 7,
     "metadata": {},
     "output_type": "execute_result"
    }
   ],
   "source": [
    "np.sum(cat['footprint_DES'][cat['fixed_SNR'] > 5.0])"
   ]
  },
  {
   "cell_type": "markdown",
   "metadata": {},
   "source": [
    "Check against full theory prediction"
   ]
  },
  {
   "cell_type": "code",
   "execution_count": 9,
   "metadata": {},
   "outputs": [
    {
     "name": "stderr",
     "output_type": "stream",
     "text": [
      "INFO - Cosmology params: {'Om0': 0.31, 'Ob0': 0.04900000000000001, 'Ob0h2': 0.022657600000000007, 'Oc0h2': 0.12068640000000003, 'h': 0.68, 'A_s': 2.0866006382888505e-09, 'n_s': 0.965, 'm_nu': 6e-06, 'sigma_8': 0.811, 'tau_reio': 0.0561, 'w0': -1.0, 'Onu0': 0.0013931690968152894, 'N_eff': 3.046, 'k_cutoff': 100000000.0, 'ps_cutoff': 1, 'H0': 68.0, 'sigma8': 0.81}\n",
      "INFO - adding dndlnM to class_sz output\n",
      "INFO - computing class_szfast\n",
      "INFO - computing class_szfast done\n",
      "INFO - Collecting hmf\n",
      "INFO - Total clusters: 929.99541\n"
     ]
    },
    {
     "name": "stdout",
     "output_type": "stream",
     "text": [
      "929.9954125297949\n"
     ]
    }
   ],
   "source": [
    "number_counts.cnc_params.update({\n",
    "        \"z_min\": 0.01,\n",
    "        \"z_max\": 3,\n",
    "        \"bins_edges_z\": np.linspace(0.01, \\\n",
    "                        3, 100)\n",
    "})\n",
    "\n",
    "number_counts.update_params(number_counts.cosmo_params,number_counts.scal_rel_params, number_counts.cnc_params)\n",
    "\n",
    "number_counts.get_number_counts() #Evaluate the binned likelihood\n",
    "\n",
    "n_tot = number_counts.n_tot\n",
    "\n",
    "print(n_tot)"
   ]
  },
  {
   "cell_type": "code",
   "execution_count": null,
   "metadata": {},
   "outputs": [],
   "source": []
  }
 ],
 "metadata": {
  "kernelspec": {
   "display_name": "Python 3",
   "language": "python",
   "name": "python3"
  },
  "language_info": {
   "codemirror_mode": {
    "name": "ipython",
    "version": 3
   },
   "file_extension": ".py",
   "mimetype": "text/x-python",
   "name": "python",
   "nbconvert_exporter": "python",
   "pygments_lexer": "ipython3",
   "version": "3.11.11"
  }
 },
 "nbformat": 4,
 "nbformat_minor": 2
}
