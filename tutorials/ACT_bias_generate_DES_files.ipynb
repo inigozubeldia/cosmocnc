{
 "cells": [
  {
   "cell_type": "code",
   "execution_count": 2,
   "metadata": {},
   "outputs": [
    {
     "name": "stderr",
     "output_type": "stream",
     "text": [
      "2025-04-16 18:08:46.141939: E external/local_xla/xla/stream_executor/cuda/cuda_fft.cc:477] Unable to register cuFFT factory: Attempting to register factory for plugin cuFFT when one has already been registered\n",
      "WARNING: All log messages before absl::InitializeLog() is called are written to STDERR\n",
      "E0000 00:00:1744819726.234706 1523101 cuda_dnn.cc:8310] Unable to register cuDNN factory: Attempting to register factory for plugin cuDNN when one has already been registered\n",
      "E0000 00:00:1744819726.259390 1523101 cuda_blas.cc:1418] Unable to register cuBLAS factory: Attempting to register factory for plugin cuBLAS when one has already been registered\n"
     ]
    },
    {
     "name": "stdout",
     "output_type": "stream",
     "text": [
      "Warning: PATH_TO_COSMOPOWER_ORGANIZATION is not set.\n",
      "defaulting to  /rds-d4/user/iz221/hpc-work/cosmopower/\n",
      "Warning: PATH_TO_COSMOCNC is not set.\n",
      "defaulting to  /home/anicola_hpc/projects/ACT_clustering/code/cosmocnc/cosmocnc/../\n",
      "PATH_TO_CLASS_SZ_DATA not set. Setting it now...\n",
      "Defaulting to: /home/anicola_hpc/class_sz_data_directory\n"
     ]
    },
    {
     "name": "stderr",
     "output_type": "stream",
     "text": [
      "2025-04-16 18:08:50.798355: E external/local_xla/xla/stream_executor/cuda/cuda_driver.cc:152] failed call to cuInit: INTERNAL: CUDA error: Failed call to cuInit: UNKNOWN ERROR (303)\n"
     ]
    }
   ],
   "source": [
    "import numpy as np\n",
    "import pylab as pl\n",
    "import cosmocnc as cnc\n",
    "import time\n",
    "from astropy.io import fits\n",
    "import os\n",
    "import nemo as nm\n",
    "import scipy.stats"
   ]
  },
  {
   "cell_type": "code",
   "execution_count": 2,
   "metadata": {},
   "outputs": [],
   "source": [
    "datadir = '/lustre/scratch/data/anicola_hpc-ACT_clustering/data/DR5ClusterSearch/selFn'\n",
    "datafile_rms = os.path.join(datadir, 'RMSTab_DES.fits')\n",
    "datafile_Q = os.path.join(datadir, 'QFit.fits')"
   ]
  },
  {
   "cell_type": "code",
   "execution_count": 3,
   "metadata": {},
   "outputs": [],
   "source": [
    "with fits.open(datafile_rms) as in_file:\n",
    "    file_rms = in_file[1].data"
   ]
  },
  {
   "cell_type": "code",
   "execution_count": 4,
   "metadata": {},
   "outputs": [],
   "source": [
    "tile_name = np.unique(file_rms['tileName'])\n",
    "tile_name = np.array(tile_name, dtype = str) # Avoids potential chararray weirdness\n",
    "QFit = nm.signals.QFit(QSource='fit', selFnDir=datadir,\n",
    "                        tileNames = tile_name)\n",
    "Nt = len(tile_name)\n",
    "tname = np.array(file_rms['tileName'], dtype = str) # Avoids potential chararray weirdness\n",
    "\n",
    "with fits.open(datafile_Q) as hdulist:\n",
    "    data = hdulist[1].data\n",
    "    tt500 = data.field(\"theta500Arcmin\")\n",
    "\n",
    "# reading in all Q functions\n",
    "allQ = np.zeros((len(tt500), Nt))\n",
    "for i in range(Nt):\n",
    "    allQ[:, i] = QFit.getQ(tt500, tileName=tile_name[i])\n",
    "assert len(tt500) == len(allQ[:, 0])\n",
    "\n",
    "Q = allQ"
   ]
  },
  {
   "cell_type": "code",
   "execution_count": 5,
   "metadata": {},
   "outputs": [],
   "source": [
    "dwnsmpl_bins = 49"
   ]
  },
  {
   "cell_type": "code",
   "execution_count": 6,
   "metadata": {},
   "outputs": [
    {
     "name": "stdout",
     "output_type": "stream",
     "text": [
      "Number of RMS values = 16010.\n",
      "Down-sampling RMS and Q function using 49 bins.\n"
     ]
    }
   ],
   "source": [
    "noise = file_rms['y0RMS']\n",
    "\n",
    "# print(self.noise.min(), self.noise.max()) # 5.5760333e-06 4.0576047e-05\n",
    "\n",
    "skyfracs = file_rms['areaDeg2'] * np.deg2rad(1.) ** 2\n",
    "print(\"Number of RMS values = {}.\".format(skyfracs.size))\n",
    "print(\"Down-sampling RMS and Q function using {} bins.\".format(dwnsmpl_bins))\n",
    "binned_stat = scipy.stats.binned_statistic(noise, skyfracs, statistic='sum',\n",
    "                                            bins=dwnsmpl_bins)\n",
    "binned_area = binned_stat[0]\n",
    "binned_rms_edges = binned_stat[1]\n",
    "\n",
    "bin_ind = np.digitize(noise, binned_rms_edges)\n",
    "tiledict = dict(zip(tile_name, np.arange(tile_name.shape[0])))\n",
    "\n",
    "Qdwnsmpld = np.zeros((Q.shape[0], dwnsmpl_bins))\n",
    "tiles_dwnsmpld = {}\n",
    "\n",
    "for i in range(dwnsmpl_bins):\n",
    "    # print(i)\n",
    "    tempind = np.where(bin_ind == i + 1)[0]\n",
    "    if len(tempind) == 0:\n",
    "        print('Found empty bin.')\n",
    "        Qdwnsmpld[:, i] = np.zeros(Q.shape[0])\n",
    "    else:\n",
    "        # print('dowsampled rms bin ',i)\n",
    "        temparea = skyfracs[tempind]\n",
    "        # print('areas of tiles in bin',temparea)\n",
    "        temptiles = tname[tempind]\n",
    "        # print('names of tiles in bin',temptiles)\n",
    "        for t in temptiles:\n",
    "            tiles_dwnsmpld[t] = i\n",
    "\n",
    "        test = [tiledict[key] for key in temptiles]\n",
    "        Qdwnsmpld[:, i] = np.average(Q[:, test], axis=1, weights=temparea)\n",
    "\n",
    "noise = 0.5*(binned_rms_edges[:-1] + binned_rms_edges[1:])\n",
    "skyfracs = binned_area\n",
    "Q = Qdwnsmpld\n",
    "tiles_dwnsmpld = tiles_dwnsmpld"
   ]
  },
  {
   "cell_type": "code",
   "execution_count": 7,
   "metadata": {},
   "outputs": [],
   "source": [
    "datafile_rms_dwsmpld = os.path.join(datadir, 'RMSTab_DES_dwsmpld_nbins={}.npz'.format(dwnsmpl_bins))\n",
    "datafile_Q_dwsmpld = os.path.join(datadir, 'QFit_dwsmpld_nbins={}.npz'.format(dwnsmpl_bins))"
   ]
  },
  {
   "cell_type": "code",
   "execution_count": 8,
   "metadata": {},
   "outputs": [],
   "source": [
    "np.savez(datafile_Q_dwsmpld, Q_dwsmpld=Qdwnsmpld, tt500=tt500)\n",
    "np.savez(datafile_rms_dwsmpld, noise=noise, skyfracs=skyfracs)"
   ]
  },
  {
   "cell_type": "code",
   "execution_count": 9,
   "metadata": {},
   "outputs": [
    {
     "data": {
      "text/plain": [
       "4608.488160967827"
      ]
     },
     "execution_count": 9,
     "metadata": {},
     "output_type": "execute_result"
    }
   ],
   "source": [
    "np.sum(skyfracs)*(180/np.pi)**2"
   ]
  },
  {
   "cell_type": "code",
   "execution_count": 3,
   "metadata": {},
   "outputs": [],
   "source": [
    "bias_vec = np.array([4.38, 5.22, 7.8, 1.91])\n",
    "bias_std = np.array([0.67, 0.79, 1.3, 0.87])\n",
    "\n",
    "bias_cov = np.diagflat(bias_std**2)"
   ]
  },
  {
   "cell_type": "code",
   "execution_count": 7,
   "metadata": {},
   "outputs": [],
   "source": [
    "np.savetxt('/lustre/scratch/data/anicola_hpc-ACT_clustering/data/bias_DESxACT_vec_z-bin1-3.txt', bias_vec[:-1])\n",
    "np.savetxt('/lustre/scratch/data/anicola_hpc-ACT_clustering/data/bias_DESxACT_cov_z-bin1-3.txt', bias_cov[:-1, :][:, :-1])"
   ]
  },
  {
   "cell_type": "code",
   "execution_count": null,
   "metadata": {},
   "outputs": [],
   "source": []
  }
 ],
 "metadata": {
  "kernelspec": {
   "display_name": "act-clust",
   "language": "python",
   "name": "python3"
  },
  "language_info": {
   "codemirror_mode": {
    "name": "ipython",
    "version": 3
   },
   "file_extension": ".py",
   "mimetype": "text/x-python",
   "name": "python",
   "nbconvert_exporter": "python",
   "pygments_lexer": "ipython3",
   "version": "3.11.11"
  }
 },
 "nbformat": 4,
 "nbformat_minor": 2
}
